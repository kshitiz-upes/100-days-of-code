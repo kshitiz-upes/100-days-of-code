{
 "cells": [
  {
   "cell_type": "markdown",
   "metadata": {},
   "source": [
    "# Day 1"
   ]
  },
  {
   "cell_type": "code",
   "execution_count": 1,
   "metadata": {},
   "outputs": [
    {
     "name": "stdout",
     "output_type": "stream",
     "text": [
      "enter the name: kshitiz\n",
      "Hello kshitiz welcome to day 1\n"
     ]
    }
   ],
   "source": [
    "name = str(input(\"enter the name: \"))\n",
    "print(\"Hello\",name, \"welcome to day 1\")"
   ]
  },
  {
   "cell_type": "markdown",
   "metadata": {},
   "source": [
    "# Day 2"
   ]
  },
  {
   "cell_type": "code",
   "execution_count": 2,
   "metadata": {},
   "outputs": [
    {
     "name": "stdout",
     "output_type": "stream",
     "text": [
      "Welcome to Day2\n",
      "keep it up!\n"
     ]
    }
   ],
   "source": [
    "#python programme showing indentation\n",
    "hey=\"Day2\"\n",
    "if hey == \"Day2\":\n",
    "    print(\"Welcome to Day2\")\n",
    "else:\n",
    "    print(\"seems you are not complete with day1\")\n",
    "print(\"keep it up!\")"
   ]
  },
  {
   "cell_type": "code",
   "execution_count": 3,
   "metadata": {},
   "outputs": [
    {
     "name": "stdout",
     "output_type": "stream",
     "text": [
      "2\n",
      "12.45\n",
      "100 days of code\n"
     ]
    }
   ],
   "source": [
    "# Variable\n",
    "Day = 2\n",
    "time = 12.45\n",
    "objective = \"100 days of code\"\n",
    "print(Day)\n",
    "print(time)\n",
    "print(objective)"
   ]
  },
  {
   "cell_type": "code",
   "execution_count": 4,
   "metadata": {},
   "outputs": [
    {
     "name": "stdout",
     "output_type": "stream",
     "text": [
      "Sum is:  20\n",
      "difference is:  10\n",
      "product is:  75\n",
      "division is:  3.0\n",
      "modulo is:  0\n"
     ]
    }
   ],
   "source": [
    "# operators\n",
    "a=5\n",
    "b=15\n",
    "add = a+b\n",
    "diff = b-a\n",
    "mul = a*b\n",
    "div = b/a\n",
    "mod = b%a\n",
    "print(\"Sum is: \",add)\n",
    "print(\"difference is: \",diff)\n",
    "print(\"product is: \",mul)\n",
    "print(\"division is: \",div)\n",
    "print(\"modulo is: \",mod)"
   ]
  },
  {
   "cell_type": "code",
   "execution_count": 5,
   "metadata": {},
   "outputs": [
    {
     "name": "stdout",
     "output_type": "stream",
     "text": [
      "False\n",
      "True\n",
      "True\n",
      "False\n"
     ]
    }
   ],
   "source": [
    "# Relational operator\n",
    "print(a>b)\n",
    "print(b>a)\n",
    "print(a!=b)\n",
    "print(a==b)\n"
   ]
  },
  {
   "cell_type": "code",
   "execution_count": 6,
   "metadata": {},
   "outputs": [
    {
     "name": "stdout",
     "output_type": "stream",
     "text": [
      "False\n",
      "True\n",
      "False\n"
     ]
    }
   ],
   "source": [
    "#logical operator\n",
    "a = True\n",
    "b = False\n",
    "print(a and b)\n",
    "print(a or b)\n",
    "print(not a)"
   ]
  },
  {
   "cell_type": "code",
   "execution_count": 7,
   "metadata": {},
   "outputs": [
    {
     "name": "stdout",
     "output_type": "stream",
     "text": [
      "5\n",
      "15\n",
      "-6\n",
      "10\n",
      "1\n",
      "20\n"
     ]
    }
   ],
   "source": [
    "# Bitwise operator\n",
    "a=5\n",
    "b=15\n",
    "print(a & b)\n",
    "print(a | b)\n",
    "print(~a)\n",
    "print(a^b)\n",
    "print(a>>2)\n",
    "print(a<<2)"
   ]
  },
  {
   "cell_type": "code",
   "execution_count": 8,
   "metadata": {},
   "outputs": [
    {
     "name": "stdout",
     "output_type": "stream",
     "text": [
      "False\n",
      "True\n",
      "True\n",
      "True\n"
     ]
    }
   ],
   "source": [
    "# special operator\n",
    "a1 = \"howisyourday2\"\n",
    "b1 = \"howisyourday2\"\n",
    "print(a1 is not b1)\n",
    "print(a1 is b1)\n",
    "print(\"h\" in a1)\n",
    "print(\"k\" not in a1)"
   ]
  },
  {
   "cell_type": "code",
   "execution_count": 9,
   "metadata": {},
   "outputs": [
    {
     "name": "stdout",
     "output_type": "stream",
     "text": [
      "type of a is:  <class 'int'>\n",
      "type of a1 is:  <class 'str'>\n",
      "type of this is <class 'complex'>\n"
     ]
    }
   ],
   "source": [
    "#numeric\n",
    "print(\"type of a is: \",type(a))\n",
    "print(\"type of a1 is: \",type(a1))\n",
    "print(\"type of this is\",type(4+2j))\n"
   ]
  },
  {
   "cell_type": "code",
   "execution_count": 10,
   "metadata": {},
   "outputs": [
    {
     "name": "stdout",
     "output_type": "stream",
     "text": [
      "[11, 2, 32, [27, 21], 23, 34, 54]\n",
      "[11, 32, [27, 21], 23, 34, 54]\n",
      "[11, 32, [27, 21], 23, 34]\n"
     ]
    }
   ],
   "source": [
    "#List\n",
    "a=[11]\n",
    "a.append(32)\n",
    "a.append([27,21])\n",
    "a.extend([23,34,54])\n",
    "a.insert(1,2)\n",
    "print(a)\n",
    "a.remove(2)\n",
    "print(a)\n",
    "a.pop()\n",
    "print(a)\n"
   ]
  },
  {
   "cell_type": "code",
   "execution_count": 11,
   "metadata": {},
   "outputs": [
    {
     "name": "stdout",
     "output_type": "stream",
     "text": [
      "(12, 23, 34, 45, 56)\n"
     ]
    }
   ],
   "source": [
    "#Tuple\n",
    "a=(12,23,34,45,56)\n",
    "print(a)\n"
   ]
  },
  {
   "cell_type": "code",
   "execution_count": 12,
   "metadata": {},
   "outputs": [
    {
     "name": "stdout",
     "output_type": "stream",
     "text": [
      "<class 'bool'>\n",
      "False\n"
     ]
    }
   ],
   "source": [
    "#boolean\n",
    "print(type(True))\n",
    "print(1>3)"
   ]
  },
  {
   "cell_type": "code",
   "execution_count": 13,
   "metadata": {},
   "outputs": [
    {
     "name": "stdout",
     "output_type": "stream",
     "text": [
      "{'skfnk', 43, 'skthiiz', 45, 23}\n",
      "{3, 'skfnk', 43, 'skthiiz', 45, 23}\n",
      "{3, 'skfnk', 43, 'skthiiz', 45, 12, 21, 23, 27}\n",
      "{3, 'skfnk', 43, 'skthiiz', 45, 12, 27}\n",
      "set()\n"
     ]
    }
   ],
   "source": [
    "#set\n",
    "a={'skfnk',43,45,'skthiiz',23,43}\n",
    "print(a)\n",
    "a.add(3)\n",
    "print(a)\n",
    "a.update([12,27,21])\n",
    "print(a)\n",
    "a.remove(23)\n",
    "a.discard(21)\n",
    "print(a)\n",
    "a.clear()\n",
    "print(a)"
   ]
  },
  {
   "cell_type": "code",
   "execution_count": 14,
   "metadata": {},
   "outputs": [
    {
     "name": "stdout",
     "output_type": "stream",
     "text": [
      "{27: 'kshitiz', 26: 'kompal'}\n",
      "<class 'dict'>\n",
      "{1: ['abc', 'qwe', 'zxc']}\n",
      "['abc', 'qwe', 'zxc']\n",
      "{}\n"
     ]
    }
   ],
   "source": [
    "#Dictionary\n",
    "dic={27:'kshitiz',26:'kompal'}\n",
    "print(dic)\n",
    "print(type(dic))\n",
    "dic={1:['abc','qwe','zxc']}\n",
    "print(dic)\n",
    "print(dic.get(1))\n",
    "dic.pop(1)\n",
    "print(dic)"
   ]
  },
  {
   "cell_type": "markdown",
   "metadata": {},
   "source": [
    "# Day 3"
   ]
  },
  {
   "cell_type": "code",
   "execution_count": 15,
   "metadata": {},
   "outputs": [
    {
     "name": "stdout",
     "output_type": "stream",
     "text": [
      "a is even 10\n"
     ]
    }
   ],
   "source": [
    "#Decision making\n",
    "a=10\n",
    "if a%2==0:\n",
    "    print(\"a is even\",a)\n",
    "else:\n",
    "    Print(\"a is odd\",a)"
   ]
  },
  {
   "cell_type": "code",
   "execution_count": 16,
   "metadata": {},
   "outputs": [
    {
     "name": "stdout",
     "output_type": "stream",
     "text": [
      "enter the number: 30\n",
      "number is divisible by both 2 and 5:  30\n"
     ]
    }
   ],
   "source": [
    "a=int(input(\"enter the number: \"))\n",
    "if a%2==0:\n",
    "    if a%5==0:\n",
    "        print(\"number is divisible by both 2 and 5: \",a)\n",
    "    else:\n",
    "        print(\"number is divisible by 2\",a)\n",
    "else:\n",
    "    print(\"number is odd: \",a)"
   ]
  },
  {
   "cell_type": "code",
   "execution_count": 18,
   "metadata": {},
   "outputs": [
    {
     "name": "stdout",
     "output_type": "stream",
     "text": [
      "so You are back for Day 3\n",
      "so You are back for Day 3\n",
      "so You are back for Day 3\n",
      "Time to go\n"
     ]
    }
   ],
   "source": [
    "i=0\n",
    "while i<3:\n",
    "    i+=1\n",
    "    print(\"so You are back for Day 3\")\n",
    "else:\n",
    "    print(\"Time to go\")"
   ]
  },
  {
   "cell_type": "code",
   "execution_count": 26,
   "metadata": {},
   "outputs": [
    {
     "name": "stdout",
     "output_type": "stream",
     "text": [
      "k\n",
      "s\n",
      "h\n",
      "i\n",
      "t\n",
      "i\n",
      "z\n",
      "see you soon: \n"
     ]
    }
   ],
   "source": [
    "s=\"kshitiz\"\n",
    "for k in s:\n",
    "    print(k)\n",
    "else:\n",
    "    print('see you soon: ')"
   ]
  },
  {
   "cell_type": "code",
   "execution_count": 33,
   "metadata": {},
   "outputs": [
    {
     "name": "stdout",
     "output_type": "stream",
     "text": [
      "0\n",
      "1\n",
      "2\n",
      "3\n",
      "4\n",
      "5\n",
      "6\n"
     ]
    }
   ],
   "source": [
    "#range function\n",
    "for k in range(len(s)):\n",
    "    print(k)"
   ]
  },
  {
   "cell_type": "code",
   "execution_count": 34,
   "metadata": {},
   "outputs": [
    {
     "name": "stdout",
     "output_type": "stream",
     "text": [
      "2\n",
      "3\n",
      "4\n",
      "5\n",
      "6\n",
      "7\n",
      "8\n"
     ]
    }
   ],
   "source": [
    "for i in range(2,9):\n",
    "    print(i)"
   ]
  },
  {
   "cell_type": "code",
   "execution_count": 35,
   "metadata": {},
   "outputs": [
    {
     "name": "stdout",
     "output_type": "stream",
     "text": [
      "2\n",
      "4\n",
      "6\n",
      "8\n"
     ]
    }
   ],
   "source": [
    "for i in range(2,9,2):\n",
    "    print(i)"
   ]
  },
  {
   "cell_type": "code",
   "execution_count": 37,
   "metadata": {},
   "outputs": [
    {
     "name": "stdout",
     "output_type": "stream",
     "text": [
      "2\n"
     ]
    }
   ],
   "source": [
    "#loop control statements\n",
    "for i in range(2,7):\n",
    "    print(i)\n",
    "    break\n"
   ]
  },
  {
   "cell_type": "code",
   "execution_count": 41,
   "metadata": {},
   "outputs": [
    {
     "name": "stdout",
     "output_type": "stream",
     "text": [
      "2\n",
      "3\n",
      "4\n",
      "5\n",
      "6\n"
     ]
    }
   ],
   "source": [
    "for i in range(2,7):\n",
    "    print(i)\n",
    "    continue\n",
    "    print(i+1)\n",
    "   "
   ]
  },
  {
   "cell_type": "code",
   "execution_count": 43,
   "metadata": {},
   "outputs": [
    {
     "name": "stdout",
     "output_type": "stream",
     "text": [
      "enter your name please: kshitiz gupta\n",
      "Hey kshitiz gupta whats up?\n"
     ]
    }
   ],
   "source": [
    "#functions\n",
    "def mynameis():\n",
    "    s=str(input(\"enter your name please: \"))\n",
    "    print(\"Hey\",s,\"whats up?\")\n",
    "mynameis()"
   ]
  },
  {
   "cell_type": "code",
   "execution_count": 45,
   "metadata": {},
   "outputs": [
    {
     "data": {
      "text/plain": [
       "125"
      ]
     },
     "execution_count": 45,
     "metadata": {},
     "output_type": "execute_result"
    }
   ],
   "source": [
    "#lambda function\n",
    "cube = lambda x: x*x*x\n",
    "cube(5)"
   ]
  },
  {
   "cell_type": "markdown",
   "metadata": {},
   "source": [
    "# Day 4"
   ]
  },
  {
   "cell_type": "code",
   "execution_count": 3,
   "metadata": {},
   "outputs": [
    {
     "name": "stdout",
     "output_type": "stream",
     "text": [
      "fourth day\n",
      "hey, today is:  fourth day\n",
      "Time now is:  12.2\n"
     ]
    }
   ],
   "source": [
    "#object oriented concept\n",
    "class Friday:\n",
    "    day = \"fourth day\"\n",
    "    time = 12.20\n",
    "    \n",
    "    def python(self):\n",
    "        print(\"hey, today is: \",self.day)\n",
    "        print(\"Time now is: \",self.time)\n",
    "        \n",
    "today = Friday()\n",
    "print(today.day)\n",
    "today.python()"
   ]
  },
  {
   "cell_type": "code",
   "execution_count": 5,
   "metadata": {},
   "outputs": [
    {
     "name": "stdout",
     "output_type": "stream",
     "text": [
      "kshitiz\n"
     ]
    }
   ],
   "source": [
    "#constructor\n",
    "class today:\n",
    "    \n",
    "    def __init__(self):\n",
    "        self.name = \"kshitiz\"\n",
    "    \n",
    "    def person(self):\n",
    "        print(self.name)\n",
    "\n",
    "obj = today()\n",
    "obj.person()"
   ]
  },
  {
   "cell_type": "code",
   "execution_count": 10,
   "metadata": {},
   "outputs": [
    {
     "name": "stdout",
     "output_type": "stream",
     "text": [
      "constructor called\n",
      "destroyer called, delete constructor\n"
     ]
    }
   ],
   "source": [
    "#destructor\n",
    "class yesterday:\n",
    "    \n",
    "    def __init__(self):\n",
    "        print(\"constructor called\")\n",
    "        \n",
    "    def __del__(self):\n",
    "        print(\"destroyer called, delete constructor\")\n",
    "    \n",
    "obj = yesterday()\n",
    "del obj"
   ]
  },
  {
   "cell_type": "code",
   "execution_count": 21,
   "metadata": {},
   "outputs": [
    {
     "name": "stdout",
     "output_type": "stream",
     "text": [
      "constructor called\n",
      "destroyer called, delete constructor\n",
      "constructor called\n",
      "destroyer called, delete constructor\n",
      "hey inheri\n"
     ]
    }
   ],
   "source": [
    "#inheritence\n",
    "class yesterday:\n",
    "    \n",
    "    def __init__(self,name):\n",
    "        self.name = name\n",
    "        print(\"constructor called\")\n",
    "        \n",
    "    def __del__(self):\n",
    "        print(\"destroyer called, delete constructor\")\n",
    "        \n",
    "class tomoroww(yesterday):\n",
    "      \n",
    "    def __sir__(self):\n",
    "        print(\"hey inheri\")\n",
    "        \n",
    "obj = yesterday(\"kshitiz\")\n",
    "obj2 = tomoroww(\"yash\")\n",
    "obj2.__sir__()\n"
   ]
  },
  {
   "cell_type": "code",
   "execution_count": 19,
   "metadata": {},
   "outputs": [
    {
     "name": "stdout",
     "output_type": "stream",
     "text": [
      "Inside A\n",
      "Inside B\n"
     ]
    }
   ],
   "source": [
    "#polymorphism\n",
    "class A(): \n",
    "    def show(self): \n",
    "        print(\"Inside A\") \n",
    "          \n",
    "class B(): \n",
    "    def show(self): \n",
    "        print(\"Inside B\") \n",
    "          \n",
    "obj = A()\n",
    "obj.show()\n",
    "obj1 = B()\n",
    "obj1.show()"
   ]
  },
  {
   "cell_type": "code",
   "execution_count": 23,
   "metadata": {},
   "outputs": [
    {
     "name": "stdout",
     "output_type": "stream",
     "text": [
      "['8266999995', '9412113155']\n"
     ]
    }
   ],
   "source": [
    "#regular expressions\n",
    "import re\n",
    "string = \"my name is kshitiz and my number is 8266999995 and 9412113155\"\n",
    "regex = '\\d+'\n",
    "\n",
    "match = re.findall(regex,string)\n",
    "print(match)"
   ]
  },
  {
   "cell_type": "code",
   "execution_count": 28,
   "metadata": {},
   "outputs": [
    {
     "name": "stdout",
     "output_type": "stream",
     "text": [
      "['my', 'name', 'is', 'kshitiz', 'and', 'my', 'number', 'is', '8266999995', 'and', '9412113155']\n"
     ]
    }
   ],
   "source": [
    "import re\n",
    "string = \"my name is kshitiz and my number is 8266999995 and 9412113155\"\n",
    "regex = '\\w+'\n",
    "\n",
    "match = re.findall(regex,string)\n",
    "print(match)"
   ]
  },
  {
   "cell_type": "code",
   "execution_count": 30,
   "metadata": {},
   "outputs": [
    {
     "name": "stdout",
     "output_type": "stream",
     "text": [
      "['e', 'c', 'd', 'e', 'a', 'e', 'd']\n"
     ]
    }
   ],
   "source": [
    "import re  \n",
    "p = re.compile('[a-e]')  \n",
    "print(p.findall(\"hello coders. how are you doing\"))"
   ]
  },
  {
   "cell_type": "code",
   "execution_count": 35,
   "metadata": {},
   "outputs": [
    {
     "name": "stdout",
     "output_type": "stream",
     "text": [
      "answer is:  6\n"
     ]
    }
   ],
   "source": [
    "#file handling\n",
    "def divide(x, y):\n",
    "    try:\n",
    "        result = x//y\n",
    "        print(\"answer is: \",result)\n",
    "    except: \n",
    "        print(\"oops! seems there is error\")\n",
    "divide(13,2)"
   ]
  },
  {
   "cell_type": "code",
   "execution_count": 36,
   "metadata": {},
   "outputs": [
    {
     "name": "stdout",
     "output_type": "stream",
     "text": [
      "answer is:  6\n",
      "bye bye! see you soon\n"
     ]
    }
   ],
   "source": [
    "def divide(x, y):\n",
    "    try:\n",
    "        result = x//y\n",
    "        print(\"answer is: \",result)\n",
    "    except: \n",
    "        print(\"oops! seems there is error\")\n",
    "    else:\n",
    "        print(\"bye bye! see you soon\")\n",
    "divide(13,2)"
   ]
  },
  {
   "cell_type": "markdown",
   "metadata": {},
   "source": [
    "# Day 5"
   ]
  },
  {
   "cell_type": "code",
   "execution_count": 7,
   "metadata": {},
   "outputs": [
    {
     "name": "stdout",
     "output_type": "stream",
     "text": [
      "enter the size of matrix: 4\n",
      "1\n",
      "2\n",
      "3\n",
      "7\n",
      "8\n",
      "9\n",
      "6\n",
      "4\n",
      "3\n",
      "2\n",
      "6\n",
      "9\n",
      "0\n",
      "8\n",
      "7\n",
      "9\n",
      "1 2 3 7 \n",
      "8 9 6 4 \n",
      "3 2 6 9 \n",
      "0 8 7 9 \n",
      "10\n"
     ]
    }
   ],
   "source": [
    "# Find difference between sums of two diagonals (Hackerrank problem solving question)\n",
    "n=int(input(\"enter the size of matrix: \"))\n",
    "matrix=[]\n",
    "for i in range(0,n):\n",
    "    c=[]\n",
    "    for j in range(0,n):\n",
    "        c.append(int(input()))\n",
    "    matrix.append(c)\n",
    "\n",
    "for i in range(0,n):\n",
    "    for j in range(0,n):\n",
    "        print(matrix[i][j],end=\" \")\n",
    "    print()\n",
    "        \n",
    "sum1=0\n",
    "sum2=0\n",
    "for i in range(0,n):\n",
    "    for j in range(0,n):\n",
    "        if i==j:\n",
    "            sum1 += matrix[i][j]\n",
    "        if i==n-j-1:\n",
    "            sum2 += matrix[i][j]\n",
    "print(abs(sum1-sum2))\n",
    "    "
   ]
  },
  {
   "cell_type": "markdown",
   "metadata": {},
   "source": [
    "# Day 6"
   ]
  },
  {
   "cell_type": "code",
   "execution_count": 33,
   "metadata": {},
   "outputs": [
    {
     "name": "stdout",
     "output_type": "stream",
     "text": [
      "enter the number of elements: 5\n",
      "1\n",
      "0\n",
      "-1\n",
      "2\n",
      "0\n",
      "[1, 0, -1, 2, 0]\n",
      "0.4\n",
      "0.2\n",
      "0.4\n"
     ]
    }
   ],
   "source": [
    "# Plus Minus hackerank problem solution\n",
    "n=int(input(\"enter the number of elements: \"))\n",
    "arr=[]\n",
    "for i in range(0,n):\n",
    "    arr.append(int(input()))\n",
    "print(arr)\n",
    "count,store,space=0,0,0\n",
    "for i in arr:\n",
    "    if i>0:\n",
    "        count+=1        \n",
    "    elif i<0: \n",
    "        store+=1    \n",
    "    else:\n",
    "        space+=1\n",
    "    \n",
    "print(count/n)\n",
    "print(store/n)\n",
    "print(space/n)\n",
    "\n",
    "\n",
    "\n",
    "\n"
   ]
  },
  {
   "cell_type": "markdown",
   "metadata": {},
   "source": []
  },
  {
   "cell_type": "markdown",
   "metadata": {},
   "source": [
    "# Day 7"
   ]
  },
  {
   "cell_type": "code",
   "execution_count": 11,
   "metadata": {},
   "outputs": [
    {
     "name": "stdout",
     "output_type": "stream",
     "text": [
      "enter the size: 4\n",
      "   #\n",
      "  ##\n",
      " ###\n",
      "####\n"
     ]
    }
   ],
   "source": [
    "# Staircase problem solving solution hackerank\n",
    "n=int(input(\"enter the size: \"))\n",
    "for i in range(0,n):\n",
    "    for j in range(0,n-(i+1)):\n",
    "        print(\" \",end=\"\")\n",
    "    for j in range(n-(i+1),n):\n",
    "        print(\"#\",end=\"\")\n",
    "    print(\"\")"
   ]
  },
  {
   "cell_type": "code",
   "execution_count": 12,
   "metadata": {},
   "outputs": [
    {
     "name": "stdout",
     "output_type": "stream",
     "text": [
      "enter the size: 3\n",
      "  #\n",
      " ##\n",
      "###\n"
     ]
    }
   ],
   "source": [
    "# Alternative solution for staircase problem\n",
    "n=int(input(\"enter the size: \"))\n",
    "for i in range(1, n + 1):\n",
    "        print(str('#'*i).rjust(n))"
   ]
  },
  {
   "cell_type": "markdown",
   "metadata": {},
   "source": [
    "# Day 8"
   ]
  },
  {
   "cell_type": "code",
   "execution_count": 4,
   "metadata": {},
   "outputs": [
    {
     "name": "stdout",
     "output_type": "stream",
     "text": [
      "Welcome to week 2, Day8!\n"
     ]
    }
   ],
   "source": [
    "print(\"Welcome to week 2, Day8!\")"
   ]
  },
  {
   "cell_type": "code",
   "execution_count": 20,
   "metadata": {},
   "outputs": [
    {
     "name": "stdout",
     "output_type": "stream",
     "text": [
      "enter the age: 5\n",
      "enter the height of the candles: 3\n",
      "enter the height of the candles: 4\n",
      "enter the height of the candles: 5\n",
      "enter the height of the candles: 4\n",
      "enter the height of the candles: 5\n",
      "[3, 4, 5, 4, 5]\n",
      "2\n"
     ]
    }
   ],
   "source": [
    "# Birthday Cake Candles problem solution hackerank\n",
    "n=int(input(\"enter the age: \"))\n",
    "arr=[]\n",
    "for i in range(0,n):\n",
    "    arr.append(int(input(\"enter the height of the candles: \")))\n",
    "print(arr)\n",
    "mat=max(arr)\n",
    "count=0\n",
    "for i in arr:\n",
    "    if i==mat:\n",
    "        count+=1\n",
    "print(count)"
   ]
  },
  {
   "cell_type": "code",
   "execution_count": 22,
   "metadata": {},
   "outputs": [
    {
     "name": "stdout",
     "output_type": "stream",
     "text": [
      "enter the age: 5\n",
      "enter the height of the candles: 3\n",
      "enter the height of the candles: 4\n",
      "enter the height of the candles: 5\n",
      "enter the height of the candles: 4\n",
      "enter the height of the candles: 5\n",
      "[3, 4, 5, 4, 5]\n",
      "2\n"
     ]
    }
   ],
   "source": [
    "#alternate solution\n",
    "n=int(input(\"enter the age: \"))\n",
    "arr=[]\n",
    "for i in range(0,n):\n",
    "    arr.append(int(input(\"enter the height of the candles: \")))\n",
    "print(arr)\n",
    "print(arr.count(max(arr)))"
   ]
  },
  {
   "cell_type": "markdown",
   "metadata": {},
   "source": [
    "# Day 9"
   ]
  },
  {
   "cell_type": "code",
   "execution_count": 9,
   "metadata": {},
   "outputs": [
    {
     "name": "stdout",
     "output_type": "stream",
     "text": [
      "enter the number of elements you want to insert: 4\n",
      "enter the element of first array: 1\n",
      "enter the element of first array: 3\n",
      "enter the element of first array: 4\n",
      "enter the element of first array: 5\n",
      "enter the element of second array: 6\n",
      "enter the element of second array: 4\n",
      "enter the element of second array: 3\n",
      "enter the element of second array: 1\n",
      "[1, 3, 4, 5]\n",
      "[6, 4, 3, 1]\n",
      "2\n",
      "2\n"
     ]
    }
   ],
   "source": [
    "# Compare the Triplets problem solution hackerrank\n",
    "n=int(input(\"enter the number of elements you want to insert: \"))\n",
    "arr1=[]\n",
    "for i in range(0,n):\n",
    "    arr1.append(int(input(\"enter the element of first array: \")))\n",
    "arr2=[]\n",
    "for i in range(0,n):\n",
    "        arr2.append(int(input(\"enter the element of second array: \")))\n",
    "print(arr1)\n",
    "print(arr2)\n",
    "alice,bob=0,0\n",
    "for i in range(0,n):\n",
    "    if arr1[i]>arr2[i]:\n",
    "        alice+=1\n",
    "    elif arr1[i]<arr2[i]:\n",
    "        bob+=1\n",
    "    else:\n",
    "        pass\n",
    "print(alice)\n",
    "print(bob)"
   ]
  },
  {
   "cell_type": "markdown",
   "metadata": {},
   "source": [
    "# Day 10"
   ]
  },
  {
   "cell_type": "code",
   "execution_count": 24,
   "metadata": {},
   "outputs": [
    {
     "name": "stdout",
     "output_type": "stream",
     "text": [
      "enter the time: 06:43:23PM\n",
      "06:43:23PM\n",
      "18:43:23\n"
     ]
    }
   ],
   "source": [
    "# Time conversion problem solution hackerrank\n",
    "s=str(input(\"enter the time: \"))\n",
    "print(s)\n",
    "AM_PM = s[-2:]\n",
    "s = s[:8]\n",
    "hh, mm, ss = [int(x) for x in s.split(\":\")]\n",
    "\n",
    "if AM_PM == 'PM' and hh != 12:\n",
    "    print('{:02}:{:02}:{:02}'.format(hh+12, mm, ss))\n",
    "elif AM_PM == 'AM' and hh == 12:\n",
    "    print('{:02}:{:02}:{:02}'.format(0, mm, ss))\n",
    "else:\n",
    "    print('{:02}:{:02}:{:02}'.format(hh, mm, ss))"
   ]
  },
  {
   "cell_type": "code",
   "execution_count": 25,
   "metadata": {},
   "outputs": [
    {
     "name": "stdout",
     "output_type": "stream",
     "text": [
      "enter the time: 12:43:12AM\n",
      "12:43:12AM\n",
      "00:43:12\n"
     ]
    }
   ],
   "source": [
    "# Alternate\n",
    "s=str(input(\"enter the time: \"))\n",
    "print(s)\n",
    "if s[-2:] == \"AM\" and s[:2] == \"12\":\n",
    "    print(\"00\"+s[2:-2])\n",
    "elif s[-2:] ==\"AM\":\n",
    "    print(s[:-2])\n",
    "elif s[-2:] == \"PM\" and s[:2] == \"12\":\n",
    "    print(s[:-2])\n",
    "else:\n",
    "    print(s(int(s[:2])+12) + int(s[2:8]))\n",
    "\n"
   ]
  },
  {
   "cell_type": "markdown",
   "metadata": {},
   "source": [
    "# Day 11"
   ]
  },
  {
   "cell_type": "code",
   "execution_count": 27,
   "metadata": {},
   "outputs": [
    {
     "name": "stdout",
     "output_type": "stream",
     "text": [
      "Hey kshitiz, How old are you? 20\n"
     ]
    }
   ],
   "source": [
    "# String Formatting\n",
    "age=20\n",
    "state=\"Hey kshitiz, How old are you? {}\"\n",
    "print(state.format(age))"
   ]
  },
  {
   "cell_type": "code",
   "execution_count": 30,
   "metadata": {},
   "outputs": [
    {
     "name": "stdout",
     "output_type": "stream",
     "text": [
      "Hey, I am kshitiz from Muzaffarnagar, India. \n"
     ]
    }
   ],
   "source": [
    "name=\"kshitiz\"\n",
    "city=\"Muzaffarnagar\"\n",
    "country=\"India\"\n",
    "txt=\"Hey, I am {0} from {1}, {2}. \"\n",
    "print(txt.format(name,city,country))"
   ]
  },
  {
   "cell_type": "code",
   "execution_count": 34,
   "metadata": {},
   "outputs": [
    {
     "name": "stdout",
     "output_type": "stream",
     "text": [
      "Hey Mustang, sports!\n"
     ]
    }
   ],
   "source": [
    "txt=\"Hey {car}, {model}!\"\n",
    "print(txt.format(car=\"Mustang\",model=\"sports\"))"
   ]
  },
  {
   "cell_type": "code",
   "execution_count": 1,
   "metadata": {},
   "outputs": [
    {
     "name": "stdout",
     "output_type": "stream",
     "text": [
      "Enter the number of students: 5\n",
      "enter the marks from 0 to 100: 45\n",
      "enter the marks from 0 to 100: 56\n",
      "enter the marks from 0 to 100: 67\n",
      "enter the marks from 0 to 100: 78\n",
      "enter the marks from 0 to 100: 89\n",
      "[45, 56, 67, 78, 89]\n",
      "45\n",
      "56\n",
      "67\n",
      "80\n",
      "90\n"
     ]
    }
   ],
   "source": [
    "#Grading Students problem solution hackerank\n",
    "n=int(input(\"Enter the number of students: \"))\n",
    "arr=[]\n",
    "for i in range(0,n):\n",
    "    arr.append(int(input(\"enter the marks from 0 to 100: \")))\n",
    "print(arr)\n",
    "for i in arr:\n",
    "    if(i >= 38 and i % 5 >2):\n",
    "        i = i + (5 - (i % 5))\n",
    "        print(i)\n",
    "    else:\n",
    "        print(i)"
   ]
  },
  {
   "cell_type": "code",
   "execution_count": 12,
   "metadata": {},
   "outputs": [
    {
     "name": "stdout",
     "output_type": "stream",
     "text": [
      "Enter the number of students: 5\n",
      "enter the marks from 0 to 100: 45\n",
      "enter the marks from 0 to 100: 56\n",
      "enter the marks from 0 to 100: 67\n",
      "enter the marks from 0 to 100: 78\n",
      "enter the marks from 0 to 100: 89\n",
      "earlier marks are:  [45, 56, 67, 78, 89]\n",
      "final marks are: \n",
      "[45, 56, 67, 80, 90]\n"
     ]
    }
   ],
   "source": [
    "#alternate solution\n",
    "n=int(input(\"Enter the number of students: \"))\n",
    "arr=[]\n",
    "for i in range(0,n):\n",
    "    arr.append(int(input(\"enter the marks from 0 to 100: \")))\n",
    "print(\"earlier marks are: \",arr)\n",
    "print(\"final marks are: \")\n",
    "print([n if n < 38 or n % 5 < 3 else (n + 5 - (n % 5)) for n in arr])"
   ]
  },
  {
   "cell_type": "markdown",
   "metadata": {},
   "source": [
    "# Day 12"
   ]
  },
  {
   "cell_type": "code",
   "execution_count": 13,
   "metadata": {},
   "outputs": [
    {
     "name": "stdout",
     "output_type": "stream",
     "text": [
      "enter the starting point: 7\n",
      "enter the ending point: 10\n",
      "enter the apple tree location: 4\n",
      "enter the orange tree location: 12\n",
      "enter the number of apple: 3\n",
      "enter the apple fruit location: 2\n",
      "enter the apple fruit location: 3\n",
      "enter the apple fruit location: -4\n",
      "[2, 3, -4]\n",
      "enter the number of mango: 3\n",
      "enter the mango fruit location: -4\n",
      "enter the mango fruit location: -3\n",
      "enter the mango fruit location: 3\n",
      "[-4, -3, 3]\n"
     ]
    }
   ],
   "source": [
    "# Apple and orange Problem solution hackerank\n",
    "s=int(input(\"enter the starting point: \"))\n",
    "t=int(input(\"enter the ending point: \"))\n",
    "a=int(input(\"enter the apple tree location: \"))\n",
    "b=int(input(\"enter the orange tree location: \"))\n",
    "m=[]\n",
    "k=int(input(\"enter the number of apple: \"))\n",
    "for i in range(k):\n",
    "    m.append(int(input(\"enter the apple fruit location: \")))\n",
    "print(m)\n",
    "n=[]\n",
    "d=int(input(\"enter the number of mango: \"))\n",
    "for i in range(d):\n",
    "    n.append(int(input(\"enter the mango fruit location: \")))\n",
    "print(n)\n",
    "    \n"
   ]
  },
  {
   "cell_type": "code",
   "execution_count": 28,
   "metadata": {},
   "outputs": [
    {
     "name": "stdout",
     "output_type": "stream",
     "text": [
      "6\n",
      "7\n",
      "0\n",
      "number of apple falls within the region:  1\n",
      "8\n",
      "9\n",
      "15\n",
      "number of mango falls within the region:  2\n"
     ]
    }
   ],
   "source": [
    "apple=0\n",
    "mango=0\n",
    "for i in m:\n",
    "    i=i+a\n",
    "    print(i)\n",
    "    if i>=s and i<=t:\n",
    "        apple+=1\n",
    "    else:\n",
    "        pass\n",
    "print(\"number of apple falls within the region: \",apple)\n",
    "for i in n:\n",
    "    i=i+b\n",
    "    print(i)\n",
    "    if i>=s and i<=t:\n",
    "        mango+=1\n",
    "    else:\n",
    "        pass\n",
    "print(\"number of mango falls within the region: \",mango)    "
   ]
  },
  {
   "cell_type": "code",
   "execution_count": 29,
   "metadata": {},
   "outputs": [
    {
     "name": "stdout",
     "output_type": "stream",
     "text": [
      "1\n",
      "2\n"
     ]
    }
   ],
   "source": [
    "#alternate solution\n",
    "apple,orange=0,0\n",
    "print(sum([1 for i in m if (i+a)>=s and (i+a)<=t]))\n",
    "print(sum([1 for i in n if (i+b)>=s and (i+b)<=t]))"
   ]
  },
  {
   "cell_type": "code",
   "execution_count": 30,
   "metadata": {},
   "outputs": [
    {
     "name": "stdout",
     "output_type": "stream",
     "text": [
      "enter the location of first kangaroo: 0\n",
      "enter the jump distance for first kangaroo: 3\n",
      "enter the location of second kangaroo: 4\n",
      "enter the jump distance for second kangaroo: 2\n",
      "0 3\n",
      "4 2\n"
     ]
    }
   ],
   "source": [
    "#kangaroo problem hackerrank solution\n",
    "x1=int(input(\"enter the location of first kangaroo: \"))\n",
    "v1=int(input(\"enter the jump distance for first kangaroo: \"))\n",
    "x2=int(input(\"enter the location of second kangaroo: \"))\n",
    "v2=int(input(\"enter the jump distance for second kangaroo: \"))\n",
    "print(x1,v1)\n",
    "print(x2,v2)"
   ]
  },
  {
   "cell_type": "code",
   "execution_count": 38,
   "metadata": {},
   "outputs": [
    {
     "name": "stdout",
     "output_type": "stream",
     "text": [
      "YES\n"
     ]
    }
   ],
   "source": [
    "if (x2>x1 and v2>v1) or (x1>x2 and v1>v2):\n",
    "    print(\"NO\")\n",
    "elif (v1-v2==0) or (v2-v1==0):\n",
    "    print(\"NO\")\n",
    "elif x1-x2==0 or x2-x1==0:\n",
    "    print(\"NO\")\n",
    "else:\n",
    "    print(\"YES\")"
   ]
  },
  {
   "cell_type": "code",
   "execution_count": 36,
   "metadata": {},
   "outputs": [
    {
     "name": "stdout",
     "output_type": "stream",
     "text": [
      "['YES']\n"
     ]
    }
   ],
   "source": [
    "#alternate solution\n",
    "print(['YES' if (v1 > v2) and (x2 - x1) % (v2 - v1) == 0 else 'NO'])"
   ]
  },
  {
   "cell_type": "markdown",
   "metadata": {},
   "source": [
    "# Day 13"
   ]
  },
  {
   "cell_type": "code",
   "execution_count": 45,
   "metadata": {},
   "outputs": [
    {
     "name": "stdout",
     "output_type": "stream",
     "text": [
      "array('i', [1, 2, 3, 4, 5, 1, 2, 3])\n",
      "The datatype of array is :  i\n",
      "The itemsize of array is :  4\n",
      "The buffer info. of array is :  (4573674672, 8)\n",
      "2\n"
     ]
    }
   ],
   "source": [
    "#DATA STRUCTURES GEEKSFORGEEKS\n",
    "#ARRAY\n",
    "import array\n",
    "arr=array.array('i',[1,2,3,4,5,1,2,3])\n",
    "print(arr)\n",
    "print (\"The datatype of array is : \",arr.typecode) \n",
    "print (\"The itemsize of array is : \",arr.itemsize) \n",
    "print (\"The buffer info. of array is : \",arr.buffer_info()) \n",
    "print(arr.count(2))  # using count() to count occurrences of 2 in array \n"
   ]
  },
  {
   "cell_type": "code",
   "execution_count": 46,
   "metadata": {},
   "outputs": [
    {
     "name": "stdout",
     "output_type": "stream",
     "text": [
      "array('i', [1, 2, 3, 1, 2, 5])\n"
     ]
    }
   ],
   "source": [
    "#alternative\n",
    "from array import *\n",
    "arr1 = array('i',[1, 2, 3, 1, 2, 5])    \n",
    "print(arr1) "
   ]
  },
  {
   "cell_type": "code",
   "execution_count": 47,
   "metadata": {},
   "outputs": [
    {
     "name": "stdout",
     "output_type": "stream",
     "text": [
      "None\n"
     ]
    }
   ],
   "source": [
    "arr2=[]\n",
    "arr2=arr.extend(arr1)\n",
    "print(arr2)"
   ]
  },
  {
   "cell_type": "code",
   "execution_count": 54,
   "metadata": {},
   "outputs": [
    {
     "name": "stdout",
     "output_type": "stream",
     "text": [
      "enter the number of games: 9\n",
      "enter the score: 10\n",
      "enter the score: 5\n",
      "enter the score: 20\n",
      "enter the score: 20\n",
      "enter the score: 4\n",
      "enter the score: 5\n",
      "enter the score: 2\n",
      "enter the score: 25\n",
      "enter the score: 1\n",
      "[10, 5, 20, 20, 4, 5, 2, 25, 1]\n"
     ]
    }
   ],
   "source": [
    "#Breaking the Records problem solution hackerrank\n",
    "n=int(input(\"enter the number of games: \"))\n",
    "arr=[]\n",
    "for i in range(0,n):\n",
    "    arr.append(int(input(\"enter the score: \")))\n",
    "print(arr)"
   ]
  },
  {
   "cell_type": "code",
   "execution_count": 73,
   "metadata": {},
   "outputs": [
    {
     "name": "stdout",
     "output_type": "stream",
     "text": [
      "2 4\n"
     ]
    }
   ],
   "source": [
    "high=low=arr[0];c1=c2=0\n",
    "for i in arr:\n",
    "    if i>high:\n",
    "        c1+=1;high=i\n",
    "    if i<low:\n",
    "        c2+=1;low=i\n",
    "print(c1,c2) "
   ]
  },
  {
   "cell_type": "markdown",
   "metadata": {},
   "source": [
    "# Day 14"
   ]
  },
  {
   "cell_type": "code",
   "execution_count": 2,
   "metadata": {},
   "outputs": [
    {
     "name": "stdout",
     "output_type": "stream",
     "text": [
      "enter the number of square in a choclate bar: 5\n",
      "enter the number on choclate square: 2\n",
      "enter the number on choclate square: 2\n",
      "enter the number on choclate square: 1\n",
      "enter the number on choclate square: 3\n",
      "enter the number on choclate square: 2\n",
      "[2, 2, 1, 3, 2]\n",
      "enter the value of d: 4\n",
      "enter the value of m: 2\n",
      "4 2\n"
     ]
    }
   ],
   "source": [
    "#Birthday Chocolate problem solution hackerrank\n",
    "k=int(input(\"enter the number of square in a choclate bar: \"))\n",
    "arr=[]\n",
    "for i in range(k):\n",
    "    arr.append(int(input(\"enter the number on choclate square: \")))\n",
    "print(arr)\n",
    "d=int(input(\"enter the value of d: \"))\n",
    "m=int(input(\"enter the value of m: \"))\n",
    "print(d,m)\n"
   ]
  },
  {
   "cell_type": "code",
   "execution_count": 11,
   "metadata": {},
   "outputs": [
    {
     "name": "stdout",
     "output_type": "stream",
     "text": [
      "2\n"
     ]
    }
   ],
   "source": [
    "count=0\n",
    "for i in range(0,k):\n",
    "    add=sum(arr[i:m+i])\n",
    "    if add==d:\n",
    "        count+=1\n",
    "print(count)\n",
    "    "
   ]
  },
  {
   "cell_type": "markdown",
   "metadata": {},
   "source": [
    "# Day 15"
   ]
  },
  {
   "cell_type": "code",
   "execution_count": 1,
   "metadata": {},
   "outputs": [
    {
     "name": "stdout",
     "output_type": "stream",
     "text": [
      "Enter the length of array: 6\n",
      "enter the array value: 2\n",
      "enter the array value: 1\n",
      "enter the array value: 3\n",
      "enter the array value: 4\n",
      "enter the array value: 5\n",
      "enter the array value: 6\n",
      "[2, 1, 3, 4, 5, 6]\n",
      "Enter the integer to divide the pair sum by: 5\n",
      "5\n"
     ]
    }
   ],
   "source": [
    "#Divisible Sum Pairs problem solution hackerrank\n",
    "n=int(input(\"Enter the length of array: \"))\n",
    "arr=[]\n",
    "for i in range(0,n):\n",
    "    arr.append(int(input(\"enter the array value: \")))\n",
    "print(arr)\n",
    "k=int(input(\"Enter the integer to divide the pair sum by: \"))\n",
    "print(k)\n",
    "    "
   ]
  },
  {
   "cell_type": "code",
   "execution_count": 20,
   "metadata": {},
   "outputs": [
    {
     "name": "stdout",
     "output_type": "stream",
     "text": [
      "The number of i,j pairs satisfying the conditions are:  3\n"
     ]
    }
   ],
   "source": [
    "count=0\n",
    "for i in range(0,n-1):\n",
    "    for x in range(i+1,n):\n",
    "        if (arr[i]+arr[x])%k==0:\n",
    "            count+=1\n",
    "print(\"The number of i,j pairs satisfying the conditions are: \",count)\n"
   ]
  },
  {
   "cell_type": "markdown",
   "metadata": {},
   "source": [
    "# Day 16"
   ]
  },
  {
   "cell_type": "code",
   "execution_count": 2,
   "metadata": {},
   "outputs": [
    {
     "name": "stdout",
     "output_type": "stream",
     "text": [
      "enter the size of array: 5\n",
      "enter the element: 2\n",
      "enter the element: 3\n",
      "enter the element: 4\n",
      "enter the element: 5\n",
      "enter the element: 6\n",
      "[2, 3, 4, 5, 6]\n",
      "enter the d value: 4\n"
     ]
    }
   ],
   "source": [
    "#programme for array rotation Geeksforgeeks\n",
    "n=int(input(\"enter the size of array: \"))\n",
    "arr=[]\n",
    "for i in range(n):\n",
    "    arr.append(int(input(\"enter the element: \")))\n",
    "print(arr)\n",
    "d=int(input(\"enter the d value: \"))"
   ]
  },
  {
   "cell_type": "code",
   "execution_count": 15,
   "metadata": {},
   "outputs": [],
   "source": [
    "def leftRotate(arr, d, n): \n",
    "    for i in range(d): \n",
    "        leftRotatebyOne(arr, n) \n",
    "  \n",
    "        def leftRotatebyOne(arr, n): \n",
    "            temp = arr[0] \n",
    "            for i in range(n-1): \n",
    "                arr[i] = arr[i+1] \n",
    "                arr[n-1] = temp \n",
    "          \n",
    "  \n",
    "        def printArray(arr,size): \n",
    "            for i in range(size): \n",
    "                print(\"%d\"% arr[i],end=\" \") \n",
    "  \n",
    "        arr = [1, 2, 3, 4, 5, 6, 7] \n",
    "        leftRotate(arr, 2, 7) \n",
    "        printArray(arr, 7) "
   ]
  },
  {
   "cell_type": "code",
   "execution_count": 16,
   "metadata": {},
   "outputs": [
    {
     "name": "stdout",
     "output_type": "stream",
     "text": [
      "How are you doing: \n"
     ]
    }
   ],
   "source": [
    "print(\"How are you doing: \")"
   ]
  },
  {
   "cell_type": "markdown",
   "metadata": {},
   "source": [
    "# Day 17"
   ]
  },
  {
   "cell_type": "code",
   "execution_count": 1,
   "metadata": {},
   "outputs": [
    {
     "name": "stdout",
     "output_type": "stream",
     "text": [
      "enter the number of socks in a pile: 9\n",
      "enter the colors of the socks: 10\n",
      "enter the colors of the socks: 20\n",
      "enter the colors of the socks: 20\n",
      "enter the colors of the socks: 10\n",
      "enter the colors of the socks: 10\n",
      "enter the colors of the socks: 30\n",
      "enter the colors of the socks: 50\n",
      "enter the colors of the socks: 10\n",
      "enter the colors of the socks: 20\n",
      "[10, 20, 20, 10, 10, 30, 50, 10, 20]\n"
     ]
    }
   ],
   "source": [
    "#Sock Merchant problem solution Hackerrank\n",
    "n=int(input(\"enter the number of socks in a pile: \"))\n",
    "arr=[]\n",
    "for i in range(n):\n",
    "    arr.append(int(input(\"enter the colors of the socks: \")))\n",
    "print(arr)"
   ]
  },
  {
   "cell_type": "code",
   "execution_count": 6,
   "metadata": {},
   "outputs": [
    {
     "name": "stdout",
     "output_type": "stream",
     "text": [
      "3\n"
     ]
    }
   ],
   "source": [
    "count=0 \n",
    "arr.sort()\n",
    "i = 0 \n",
    "while i < (n-1) :\n",
    "    if (arr[i] == arr[i + 1]) :\n",
    "        count += 1 \n",
    "        i = i + 2  \n",
    "    else :\n",
    "        i += 1  \n",
    "print(count)  \n"
   ]
  },
  {
   "cell_type": "markdown",
   "metadata": {},
   "source": [
    "# Day 18"
   ]
  },
  {
   "cell_type": "code",
   "execution_count": 8,
   "metadata": {},
   "outputs": [
    {
     "name": "stdout",
     "output_type": "stream",
     "text": [
      "enter the number of pages in a book: 362\n",
      "enter the page that Brie's teacher wants her to turn to: 83\n",
      "362 83\n"
     ]
    }
   ],
   "source": [
    "#Drwaing book solution Hackerrank\n",
    "n=int(input(\"enter the number of pages in a book: \"))\n",
    "p=int(input(\"enter the page that Brie's teacher wants her to turn to: \"))\n",
    "print(n,p)"
   ]
  },
  {
   "cell_type": "code",
   "execution_count": 31,
   "metadata": {},
   "outputs": [
    {
     "name": "stdout",
     "output_type": "stream",
     "text": [
      "enter the number of pages in a book: 362\n",
      "enter the page that Brie's teacher wants her to turn to: 83\n",
      "the shortest possible turn is:  41\n"
     ]
    }
   ],
   "source": [
    "n=int(input(\"enter the number of pages in a book: \"))\n",
    "p=int(input(\"enter the page that Brie's teacher wants her to turn to: \"))\n",
    "#print(n,p)\n",
    "count=1\n",
    "add=1\n",
    "strike=0\n",
    "for i in range(2,n+1):\n",
    "    if i!=p:\n",
    "        count+=1\n",
    "    else:\n",
    "        store = (count+1)//2\n",
    "if n%2==0:\n",
    "    for i in reversed(range(2,n+1)):\n",
    "        if i!=p:\n",
    "            add+=1\n",
    "        else:\n",
    "            save = add//2\n",
    "    if store<save:\n",
    "        print(\"the shortest possible turn is: \",store)\n",
    "    else:\n",
    "        print(\"the shortest possible turn is: \",save) \n",
    "else:\n",
    "    for i in reversed(range(2,n+1)):\n",
    "        if i!=p:\n",
    "            strike+=1\n",
    "        else:\n",
    "            house = strike//2\n",
    "    if store<house:\n",
    "        print(\"the shortest possible turn is: \",store)\n",
    "    else:\n",
    "        print(\"the shortest possible turn is: \",house)\n"
   ]
  },
  {
   "cell_type": "code",
   "execution_count": 32,
   "metadata": {},
   "outputs": [
    {
     "name": "stdout",
     "output_type": "stream",
     "text": [
      "41\n"
     ]
    }
   ],
   "source": [
    "#alternate solution'\n",
    "print(min(p//2,(n//2-p//2)))"
   ]
  },
  {
   "cell_type": "markdown",
   "metadata": {},
   "source": [
    "# Day 19"
   ]
  },
  {
   "cell_type": "code",
   "execution_count": 10,
   "metadata": {},
   "outputs": [
    {
     "name": "stdout",
     "output_type": "stream",
     "text": [
      "enter the number of steps in Gary's hike: 8\n",
      "enter the charachter that describes the partU\n",
      "enter the charachter that describes the partD\n",
      "enter the charachter that describes the partD\n",
      "enter the charachter that describes the partD\n",
      "enter the charachter that describes the partU\n",
      "enter the charachter that describes the partD\n",
      "enter the charachter that describes the partU\n",
      "enter the charachter that describes the partU\n",
      "['U', 'D', 'D', 'D', 'U', 'D', 'U', 'U']\n"
     ]
    }
   ],
   "source": [
    "#Counting Valley Problem Solution Hackerrank\n",
    "n=int(input(\"enter the number of steps in Gary's hike: \"))\n",
    "arr=[]\n",
    "for i in range(n):\n",
    "    arr.append(input(\"enter the charachter that describes the part\"))\n",
    "print(arr)    \n",
    "    \n",
    "    "
   ]
  },
  {
   "cell_type": "code",
   "execution_count": 14,
   "metadata": {},
   "outputs": [
    {
     "name": "stdout",
     "output_type": "stream",
     "text": [
      "0\n"
     ]
    }
   ],
   "source": [
    "count=0\n",
    "for i in arr:\n",
    "    if i==\"U\":\n",
    "        count+=1\n",
    "    else:\n",
    "        count-=1\n",
    "     count==0:\n",
    "        "
   ]
  },
  {
   "cell_type": "code",
   "execution_count": 15,
   "metadata": {},
   "outputs": [
    {
     "name": "stdout",
     "output_type": "stream",
     "text": [
      "enter the number of items ordered: 4\n",
      "enter the bill number that anna hasn't eat: 1\n",
      "enter the bills3\n",
      "enter the bills10\n",
      "enter the bills2\n",
      "enter the bills9\n",
      "[3, 10, 2, 9]\n",
      "the amount of money that Brian charged Anna for her share of the bill: 12\n"
     ]
    }
   ],
   "source": [
    "#Bon Appétit problem solution Hackerrank\n",
    "n=int(input(\"enter the number of items ordered: \"))\n",
    "k=int(input(\"enter the bill number that anna hasn't eat: \"))\n",
    "arr=[]\n",
    "for i in range(n):\n",
    "    arr.append(int(input(\"enter the bills\")))\n",
    "print(arr)\n",
    "b=int(input(\"the amount of money that Brian charged Anna for her share of the bill: \"))"
   ]
  },
  {
   "cell_type": "code",
   "execution_count": 23,
   "metadata": {},
   "outputs": [
    {
     "name": "stdout",
     "output_type": "stream",
     "text": [
      "5\n"
     ]
    }
   ],
   "source": [
    "total=sum(arr)\n",
    "#print(total//2)\n",
    "value=arr[k]\n",
    "count=0\n",
    "for i in arr:\n",
    "    if i==value:\n",
    "        pass\n",
    "    else:\n",
    "        count+=i\n",
    "#print(count//2)\n",
    "if (count//2)==b:\n",
    "    print(\"Bon Appetit\")\n",
    "else:\n",
    "    print(b-count//2)\n"
   ]
  },
  {
   "cell_type": "code",
   "execution_count": 25,
   "metadata": {},
   "outputs": [
    {
     "name": "stdout",
     "output_type": "stream",
     "text": [
      "5\n"
     ]
    }
   ],
   "source": [
    "#alternative solution\n",
    "print('Bon Appetit' if (sum(arr) - arr[k]) // 2 == b else arr[k] // 2)\n"
   ]
  },
  {
   "cell_type": "markdown",
   "metadata": {},
   "source": [
    "# Day 20"
   ]
  },
  {
   "cell_type": "code",
   "execution_count": 9,
   "metadata": {},
   "outputs": [
    {
     "name": "stdout",
     "output_type": "stream",
     "text": [
      "enter the number of queries: 2\n",
      "3 5 4\n",
      "5 7 8\n",
      "Cat B\n",
      "Cat B\n"
     ]
    }
   ],
   "source": [
    "#Cat and a mouse problem Hackerrank solution\n",
    "q=int(input(\"enter the number of queries: \"))\n",
    "for i in range(q):\n",
    "    xyz = input().split()\n",
    "    x = int(xyz[0])\n",
    "    y = int(xyz[1])\n",
    "    z = int(xyz[2])\n",
    "for i in range(q):\n",
    "    if abs(x-z)<abs(y-z):\n",
    "        print(\"Cat A\")\n",
    "    elif abs(x-z)>abs(y-z):\n",
    "        print(\"Cat B\")\n",
    "    else:\n",
    "        print(\"Mouse C\")\n"
   ]
  },
  {
   "cell_type": "markdown",
   "metadata": {},
   "source": [
    "# Day 21"
   ]
  },
  {
   "cell_type": "code",
   "execution_count": 26,
   "metadata": {},
   "outputs": [
    {
     "name": "stdout",
     "output_type": "stream",
     "text": [
      "Enter the Budget: 50\n",
      "Enter the number of keyboard models: 3\n",
      "enter the cost of Keyboard: 30\n",
      "enter the cost of Keyboard: 40\n",
      "enter the cost of Keyboard: 50\n",
      "[30, 40, 50]\n",
      "Enter the number of USB drive models: 2\n",
      "enter the cost of USB: 12\n",
      "enter the cost of USB: 18\n",
      "[12, 18]\n"
     ]
    }
   ],
   "source": [
    "#Electronics Shop Problem Solution Hackerrank\n",
    "b=int(input(\"Enter the Budget: \"))\n",
    "n=int(input(\"Enter the number of keyboard models: \"))\n",
    "arr=[]\n",
    "for i in range(n):\n",
    "    arr.append(int(input(\"enter the cost of Keyboard: \")))\n",
    "print(arr)\n",
    "\n",
    "m=int(input(\"Enter the number of USB drive models: \"))\n",
    "arr1=[]\n",
    "for i in range(m):\n",
    "    arr1.append(int(input(\"enter the cost of USB: \")))\n",
    "print(arr1)\n",
    "    "
   ]
  },
  {
   "cell_type": "code",
   "execution_count": 27,
   "metadata": {},
   "outputs": [
    {
     "name": "stdout",
     "output_type": "stream",
     "text": [
      "48\n"
     ]
    }
   ],
   "source": [
    "ar=[]\n",
    "for i in arr:\n",
    "    for x in arr1:\n",
    "        if i+x<b:\n",
    "            count=i+x\n",
    "            ar.append(count)\n",
    "        else:\n",
    "            pass\n",
    "if len(ar)==0:\n",
    "    print(\"-1\")\n",
    "else:\n",
    "    print(max(ar))"
   ]
  },
  {
   "cell_type": "code",
   "execution_count": 28,
   "metadata": {},
   "outputs": [
    {
     "name": "stdout",
     "output_type": "stream",
     "text": [
      "48\n"
     ]
    }
   ],
   "source": [
    "#alternate solutioin\n",
    "from itertools import product\n",
    "print(max((i+x) if i+x<=b else -1 for i,x in product(arr,arr1)))"
   ]
  },
  {
   "cell_type": "markdown",
   "metadata": {},
   "source": [
    "# Day 22"
   ]
  },
  {
   "cell_type": "code",
   "execution_count": null,
   "metadata": {},
   "outputs": [],
   "source": []
  }
 ],
 "metadata": {
  "kernelspec": {
   "display_name": "Python 3",
   "language": "python",
   "name": "python3"
  },
  "language_info": {
   "codemirror_mode": {
    "name": "ipython",
    "version": 3
   },
   "file_extension": ".py",
   "mimetype": "text/x-python",
   "name": "python",
   "nbconvert_exporter": "python",
   "pygments_lexer": "ipython3",
   "version": "3.7.1"
  }
 },
 "nbformat": 4,
 "nbformat_minor": 2
}
