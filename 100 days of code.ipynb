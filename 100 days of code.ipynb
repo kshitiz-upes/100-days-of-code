{
 "cells": [
  {
   "cell_type": "markdown",
   "metadata": {},
   "source": [
    "# Day 1"
   ]
  },
  {
   "cell_type": "code",
   "execution_count": 1,
   "metadata": {},
   "outputs": [
    {
     "name": "stdout",
     "output_type": "stream",
     "text": [
      "enter the name: kshitiz\n",
      "Hello kshitiz welcome to day 1\n"
     ]
    }
   ],
   "source": [
    "name = str(input(\"enter the name: \"))\n",
    "print(\"Hello\",name, \"welcome to day 1\")"
   ]
  },
  {
   "cell_type": "markdown",
   "metadata": {},
   "source": [
    "# Day 2"
   ]
  },
  {
   "cell_type": "code",
   "execution_count": 2,
   "metadata": {},
   "outputs": [
    {
     "name": "stdout",
     "output_type": "stream",
     "text": [
      "Welcome to Day2\n",
      "keep it up!\n"
     ]
    }
   ],
   "source": [
    "#python programme showing indentation\n",
    "hey=\"Day2\"\n",
    "if hey == \"Day2\":\n",
    "    print(\"Welcome to Day2\")\n",
    "else:\n",
    "    print(\"seems you are not complete with day1\")\n",
    "print(\"keep it up!\")"
   ]
  },
  {
   "cell_type": "code",
   "execution_count": 3,
   "metadata": {},
   "outputs": [
    {
     "name": "stdout",
     "output_type": "stream",
     "text": [
      "2\n",
      "12.45\n",
      "100 days of code\n"
     ]
    }
   ],
   "source": [
    "# Variable\n",
    "Day = 2\n",
    "time = 12.45\n",
    "objective = \"100 days of code\"\n",
    "print(Day)\n",
    "print(time)\n",
    "print(objective)"
   ]
  },
  {
   "cell_type": "code",
   "execution_count": 4,
   "metadata": {},
   "outputs": [
    {
     "name": "stdout",
     "output_type": "stream",
     "text": [
      "Sum is:  20\n",
      "difference is:  10\n",
      "product is:  75\n",
      "division is:  3.0\n",
      "modulo is:  0\n"
     ]
    }
   ],
   "source": [
    "# operators\n",
    "a=5\n",
    "b=15\n",
    "add = a+b\n",
    "diff = b-a\n",
    "mul = a*b\n",
    "div = b/a\n",
    "mod = b%a\n",
    "print(\"Sum is: \",add)\n",
    "print(\"difference is: \",diff)\n",
    "print(\"product is: \",mul)\n",
    "print(\"division is: \",div)\n",
    "print(\"modulo is: \",mod)"
   ]
  },
  {
   "cell_type": "code",
   "execution_count": 5,
   "metadata": {},
   "outputs": [
    {
     "name": "stdout",
     "output_type": "stream",
     "text": [
      "False\n",
      "True\n",
      "True\n",
      "False\n"
     ]
    }
   ],
   "source": [
    "# Relational operator\n",
    "print(a>b)\n",
    "print(b>a)\n",
    "print(a!=b)\n",
    "print(a==b)\n"
   ]
  },
  {
   "cell_type": "code",
   "execution_count": 6,
   "metadata": {},
   "outputs": [
    {
     "name": "stdout",
     "output_type": "stream",
     "text": [
      "False\n",
      "True\n",
      "False\n"
     ]
    }
   ],
   "source": [
    "#logical operator\n",
    "a = True\n",
    "b = False\n",
    "print(a and b)\n",
    "print(a or b)\n",
    "print(not a)"
   ]
  },
  {
   "cell_type": "code",
   "execution_count": 7,
   "metadata": {},
   "outputs": [
    {
     "name": "stdout",
     "output_type": "stream",
     "text": [
      "5\n",
      "15\n",
      "-6\n",
      "10\n",
      "1\n",
      "20\n"
     ]
    }
   ],
   "source": [
    "# Bitwise operator\n",
    "a=5\n",
    "b=15\n",
    "print(a & b)\n",
    "print(a | b)\n",
    "print(~a)\n",
    "print(a^b)\n",
    "print(a>>2)\n",
    "print(a<<2)"
   ]
  },
  {
   "cell_type": "code",
   "execution_count": 8,
   "metadata": {},
   "outputs": [
    {
     "name": "stdout",
     "output_type": "stream",
     "text": [
      "False\n",
      "True\n",
      "True\n",
      "True\n"
     ]
    }
   ],
   "source": [
    "# special operator\n",
    "a1 = \"howisyourday2\"\n",
    "b1 = \"howisyourday2\"\n",
    "print(a1 is not b1)\n",
    "print(a1 is b1)\n",
    "print(\"h\" in a1)\n",
    "print(\"k\" not in a1)"
   ]
  },
  {
   "cell_type": "code",
   "execution_count": 9,
   "metadata": {},
   "outputs": [
    {
     "name": "stdout",
     "output_type": "stream",
     "text": [
      "type of a is:  <class 'int'>\n",
      "type of a1 is:  <class 'str'>\n",
      "type of this is <class 'complex'>\n"
     ]
    }
   ],
   "source": [
    "#numeric\n",
    "print(\"type of a is: \",type(a))\n",
    "print(\"type of a1 is: \",type(a1))\n",
    "print(\"type of this is\",type(4+2j))\n"
   ]
  },
  {
   "cell_type": "code",
   "execution_count": 10,
   "metadata": {},
   "outputs": [
    {
     "name": "stdout",
     "output_type": "stream",
     "text": [
      "[11, 2, 32, [27, 21], 23, 34, 54]\n",
      "[11, 32, [27, 21], 23, 34, 54]\n",
      "[11, 32, [27, 21], 23, 34]\n"
     ]
    }
   ],
   "source": [
    "#List\n",
    "a=[11]\n",
    "a.append(32)\n",
    "a.append([27,21])\n",
    "a.extend([23,34,54])\n",
    "a.insert(1,2)\n",
    "print(a)\n",
    "a.remove(2)\n",
    "print(a)\n",
    "a.pop()\n",
    "print(a)\n"
   ]
  },
  {
   "cell_type": "code",
   "execution_count": 11,
   "metadata": {},
   "outputs": [
    {
     "name": "stdout",
     "output_type": "stream",
     "text": [
      "(12, 23, 34, 45, 56)\n"
     ]
    }
   ],
   "source": [
    "#Tuple\n",
    "a=(12,23,34,45,56)\n",
    "print(a)\n"
   ]
  },
  {
   "cell_type": "code",
   "execution_count": 12,
   "metadata": {},
   "outputs": [
    {
     "name": "stdout",
     "output_type": "stream",
     "text": [
      "<class 'bool'>\n",
      "False\n"
     ]
    }
   ],
   "source": [
    "#boolean\n",
    "print(type(True))\n",
    "print(1>3)"
   ]
  },
  {
   "cell_type": "code",
   "execution_count": 13,
   "metadata": {},
   "outputs": [
    {
     "name": "stdout",
     "output_type": "stream",
     "text": [
      "{'skfnk', 43, 'skthiiz', 45, 23}\n",
      "{3, 'skfnk', 43, 'skthiiz', 45, 23}\n",
      "{3, 'skfnk', 43, 'skthiiz', 45, 12, 21, 23, 27}\n",
      "{3, 'skfnk', 43, 'skthiiz', 45, 12, 27}\n",
      "set()\n"
     ]
    }
   ],
   "source": [
    "#set\n",
    "a={'skfnk',43,45,'skthiiz',23,43}\n",
    "print(a)\n",
    "a.add(3)\n",
    "print(a)\n",
    "a.update([12,27,21])\n",
    "print(a)\n",
    "a.remove(23)\n",
    "a.discard(21)\n",
    "print(a)\n",
    "a.clear()\n",
    "print(a)"
   ]
  },
  {
   "cell_type": "code",
   "execution_count": 14,
   "metadata": {},
   "outputs": [
    {
     "name": "stdout",
     "output_type": "stream",
     "text": [
      "{27: 'kshitiz', 26: 'kompal'}\n",
      "<class 'dict'>\n",
      "{1: ['abc', 'qwe', 'zxc']}\n",
      "['abc', 'qwe', 'zxc']\n",
      "{}\n"
     ]
    }
   ],
   "source": [
    "#Dictionary\n",
    "dic={27:'kshitiz',26:'kompal'}\n",
    "print(dic)\n",
    "print(type(dic))\n",
    "dic={1:['abc','qwe','zxc']}\n",
    "print(dic)\n",
    "print(dic.get(1))\n",
    "dic.pop(1)\n",
    "print(dic)"
   ]
  },
  {
   "cell_type": "markdown",
   "metadata": {},
   "source": [
    "# Day 3"
   ]
  },
  {
   "cell_type": "code",
   "execution_count": 15,
   "metadata": {},
   "outputs": [
    {
     "name": "stdout",
     "output_type": "stream",
     "text": [
      "a is even 10\n"
     ]
    }
   ],
   "source": [
    "#Decision making\n",
    "a=10\n",
    "if a%2==0:\n",
    "    print(\"a is even\",a)\n",
    "else:\n",
    "    Print(\"a is odd\",a)"
   ]
  },
  {
   "cell_type": "code",
   "execution_count": 16,
   "metadata": {},
   "outputs": [
    {
     "name": "stdout",
     "output_type": "stream",
     "text": [
      "enter the number: 30\n",
      "number is divisible by both 2 and 5:  30\n"
     ]
    }
   ],
   "source": [
    "a=int(input(\"enter the number: \"))\n",
    "if a%2==0:\n",
    "    if a%5==0:\n",
    "        print(\"number is divisible by both 2 and 5: \",a)\n",
    "    else:\n",
    "        print(\"number is divisible by 2\",a)\n",
    "else:\n",
    "    print(\"number is odd: \",a)"
   ]
  },
  {
   "cell_type": "code",
   "execution_count": 18,
   "metadata": {},
   "outputs": [
    {
     "name": "stdout",
     "output_type": "stream",
     "text": [
      "so You are back for Day 3\n",
      "so You are back for Day 3\n",
      "so You are back for Day 3\n",
      "Time to go\n"
     ]
    }
   ],
   "source": [
    "i=0\n",
    "while i<3:\n",
    "    i+=1\n",
    "    print(\"so You are back for Day 3\")\n",
    "else:\n",
    "    print(\"Time to go\")"
   ]
  },
  {
   "cell_type": "code",
   "execution_count": 26,
   "metadata": {},
   "outputs": [
    {
     "name": "stdout",
     "output_type": "stream",
     "text": [
      "k\n",
      "s\n",
      "h\n",
      "i\n",
      "t\n",
      "i\n",
      "z\n",
      "see you soon: \n"
     ]
    }
   ],
   "source": [
    "s=\"kshitiz\"\n",
    "for k in s:\n",
    "    print(k)\n",
    "else:\n",
    "    print('see you soon: ')"
   ]
  },
  {
   "cell_type": "code",
   "execution_count": 33,
   "metadata": {},
   "outputs": [
    {
     "name": "stdout",
     "output_type": "stream",
     "text": [
      "0\n",
      "1\n",
      "2\n",
      "3\n",
      "4\n",
      "5\n",
      "6\n"
     ]
    }
   ],
   "source": [
    "#range function\n",
    "for k in range(len(s)):\n",
    "    print(k)"
   ]
  },
  {
   "cell_type": "code",
   "execution_count": 34,
   "metadata": {},
   "outputs": [
    {
     "name": "stdout",
     "output_type": "stream",
     "text": [
      "2\n",
      "3\n",
      "4\n",
      "5\n",
      "6\n",
      "7\n",
      "8\n"
     ]
    }
   ],
   "source": [
    "for i in range(2,9):\n",
    "    print(i)"
   ]
  },
  {
   "cell_type": "code",
   "execution_count": 35,
   "metadata": {},
   "outputs": [
    {
     "name": "stdout",
     "output_type": "stream",
     "text": [
      "2\n",
      "4\n",
      "6\n",
      "8\n"
     ]
    }
   ],
   "source": [
    "for i in range(2,9,2):\n",
    "    print(i)"
   ]
  },
  {
   "cell_type": "code",
   "execution_count": 37,
   "metadata": {},
   "outputs": [
    {
     "name": "stdout",
     "output_type": "stream",
     "text": [
      "2\n"
     ]
    }
   ],
   "source": [
    "#loop control statements\n",
    "for i in range(2,7):\n",
    "    print(i)\n",
    "    break\n"
   ]
  },
  {
   "cell_type": "code",
   "execution_count": 41,
   "metadata": {},
   "outputs": [
    {
     "name": "stdout",
     "output_type": "stream",
     "text": [
      "2\n",
      "3\n",
      "4\n",
      "5\n",
      "6\n"
     ]
    }
   ],
   "source": [
    "for i in range(2,7):\n",
    "    print(i)\n",
    "    continue\n",
    "    print(i+1)\n",
    "   "
   ]
  },
  {
   "cell_type": "code",
   "execution_count": 43,
   "metadata": {},
   "outputs": [
    {
     "name": "stdout",
     "output_type": "stream",
     "text": [
      "enter your name please: kshitiz gupta\n",
      "Hey kshitiz gupta whats up?\n"
     ]
    }
   ],
   "source": [
    "#functions\n",
    "def mynameis():\n",
    "    s=str(input(\"enter your name please: \"))\n",
    "    print(\"Hey\",s,\"whats up?\")\n",
    "mynameis()"
   ]
  },
  {
   "cell_type": "code",
   "execution_count": 45,
   "metadata": {},
   "outputs": [
    {
     "data": {
      "text/plain": [
       "125"
      ]
     },
     "execution_count": 45,
     "metadata": {},
     "output_type": "execute_result"
    }
   ],
   "source": [
    "#lambda function\n",
    "cube = lambda x: x*x*x\n",
    "cube(5)"
   ]
  },
  {
   "cell_type": "markdown",
   "metadata": {},
   "source": [
    "# Day 4"
   ]
  },
  {
   "cell_type": "code",
   "execution_count": 3,
   "metadata": {},
   "outputs": [
    {
     "name": "stdout",
     "output_type": "stream",
     "text": [
      "fourth day\n",
      "hey, today is:  fourth day\n",
      "Time now is:  12.2\n"
     ]
    }
   ],
   "source": [
    "#object oriented concept\n",
    "class Friday:\n",
    "    day = \"fourth day\"\n",
    "    time = 12.20\n",
    "    \n",
    "    def python(self):\n",
    "        print(\"hey, today is: \",self.day)\n",
    "        print(\"Time now is: \",self.time)\n",
    "        \n",
    "today = Friday()\n",
    "print(today.day)\n",
    "today.python()"
   ]
  },
  {
   "cell_type": "code",
   "execution_count": 5,
   "metadata": {},
   "outputs": [
    {
     "name": "stdout",
     "output_type": "stream",
     "text": [
      "kshitiz\n"
     ]
    }
   ],
   "source": [
    "#constructor\n",
    "class today:\n",
    "    \n",
    "    def __init__(self):\n",
    "        self.name = \"kshitiz\"\n",
    "    \n",
    "    def person(self):\n",
    "        print(self.name)\n",
    "\n",
    "obj = today()\n",
    "obj.person()"
   ]
  },
  {
   "cell_type": "code",
   "execution_count": 10,
   "metadata": {},
   "outputs": [
    {
     "name": "stdout",
     "output_type": "stream",
     "text": [
      "constructor called\n",
      "destroyer called, delete constructor\n"
     ]
    }
   ],
   "source": [
    "#destructor\n",
    "class yesterday:\n",
    "    \n",
    "    def __init__(self):\n",
    "        print(\"constructor called\")\n",
    "        \n",
    "    def __del__(self):\n",
    "        print(\"destroyer called, delete constructor\")\n",
    "    \n",
    "obj = yesterday()\n",
    "del obj"
   ]
  },
  {
   "cell_type": "code",
   "execution_count": 21,
   "metadata": {},
   "outputs": [
    {
     "name": "stdout",
     "output_type": "stream",
     "text": [
      "constructor called\n",
      "destroyer called, delete constructor\n",
      "constructor called\n",
      "destroyer called, delete constructor\n",
      "hey inheri\n"
     ]
    }
   ],
   "source": [
    "#inheritence\n",
    "class yesterday:\n",
    "    \n",
    "    def __init__(self,name):\n",
    "        self.name = name\n",
    "        print(\"constructor called\")\n",
    "        \n",
    "    def __del__(self):\n",
    "        print(\"destroyer called, delete constructor\")\n",
    "        \n",
    "class tomoroww(yesterday):\n",
    "      \n",
    "    def __sir__(self):\n",
    "        print(\"hey inheri\")\n",
    "        \n",
    "obj = yesterday(\"kshitiz\")\n",
    "obj2 = tomoroww(\"yash\")\n",
    "obj2.__sir__()\n"
   ]
  },
  {
   "cell_type": "code",
   "execution_count": 19,
   "metadata": {},
   "outputs": [
    {
     "name": "stdout",
     "output_type": "stream",
     "text": [
      "Inside A\n",
      "Inside B\n"
     ]
    }
   ],
   "source": [
    "#polymorphism\n",
    "class A(): \n",
    "    def show(self): \n",
    "        print(\"Inside A\") \n",
    "          \n",
    "class B(): \n",
    "    def show(self): \n",
    "        print(\"Inside B\") \n",
    "          \n",
    "obj = A()\n",
    "obj.show()\n",
    "obj1 = B()\n",
    "obj1.show()"
   ]
  },
  {
   "cell_type": "code",
   "execution_count": 23,
   "metadata": {},
   "outputs": [
    {
     "name": "stdout",
     "output_type": "stream",
     "text": [
      "['8266999995', '9412113155']\n"
     ]
    }
   ],
   "source": [
    "#regular expressions\n",
    "import re\n",
    "string = \"my name is kshitiz and my number is 8266999995 and 9412113155\"\n",
    "regex = '\\d+'\n",
    "\n",
    "match = re.findall(regex,string)\n",
    "print(match)"
   ]
  },
  {
   "cell_type": "code",
   "execution_count": 28,
   "metadata": {},
   "outputs": [
    {
     "name": "stdout",
     "output_type": "stream",
     "text": [
      "['my', 'name', 'is', 'kshitiz', 'and', 'my', 'number', 'is', '8266999995', 'and', '9412113155']\n"
     ]
    }
   ],
   "source": [
    "import re\n",
    "string = \"my name is kshitiz and my number is 8266999995 and 9412113155\"\n",
    "regex = '\\w+'\n",
    "\n",
    "match = re.findall(regex,string)\n",
    "print(match)"
   ]
  },
  {
   "cell_type": "code",
   "execution_count": 30,
   "metadata": {},
   "outputs": [
    {
     "name": "stdout",
     "output_type": "stream",
     "text": [
      "['e', 'c', 'd', 'e', 'a', 'e', 'd']\n"
     ]
    }
   ],
   "source": [
    "import re  \n",
    "p = re.compile('[a-e]')  \n",
    "print(p.findall(\"hello coders. how are you doing\"))"
   ]
  },
  {
   "cell_type": "code",
   "execution_count": 35,
   "metadata": {},
   "outputs": [
    {
     "name": "stdout",
     "output_type": "stream",
     "text": [
      "answer is:  6\n"
     ]
    }
   ],
   "source": [
    "#file handling\n",
    "def divide(x, y):\n",
    "    try:\n",
    "        result = x//y\n",
    "        print(\"answer is: \",result)\n",
    "    except: \n",
    "        print(\"oops! seems there is error\")\n",
    "divide(13,2)"
   ]
  },
  {
   "cell_type": "code",
   "execution_count": 36,
   "metadata": {},
   "outputs": [
    {
     "name": "stdout",
     "output_type": "stream",
     "text": [
      "answer is:  6\n",
      "bye bye! see you soon\n"
     ]
    }
   ],
   "source": [
    "def divide(x, y):\n",
    "    try:\n",
    "        result = x//y\n",
    "        print(\"answer is: \",result)\n",
    "    except: \n",
    "        print(\"oops! seems there is error\")\n",
    "    else:\n",
    "        print(\"bye bye! see you soon\")\n",
    "divide(13,2)"
   ]
  },
  {
   "cell_type": "markdown",
   "metadata": {},
   "source": [
    "# Day 5"
   ]
  },
  {
   "cell_type": "code",
   "execution_count": 7,
   "metadata": {},
   "outputs": [
    {
     "name": "stdout",
     "output_type": "stream",
     "text": [
      "enter the size of matrix: 4\n",
      "1\n",
      "2\n",
      "3\n",
      "7\n",
      "8\n",
      "9\n",
      "6\n",
      "4\n",
      "3\n",
      "2\n",
      "6\n",
      "9\n",
      "0\n",
      "8\n",
      "7\n",
      "9\n",
      "1 2 3 7 \n",
      "8 9 6 4 \n",
      "3 2 6 9 \n",
      "0 8 7 9 \n",
      "10\n"
     ]
    }
   ],
   "source": [
    "# Find difference between sums of two diagonals (Hackerrank problem solving question)\n",
    "n=int(input(\"enter the size of matrix: \"))\n",
    "matrix=[]\n",
    "for i in range(0,n):\n",
    "    c=[]\n",
    "    for j in range(0,n):\n",
    "        c.append(int(input()))\n",
    "    matrix.append(c)\n",
    "\n",
    "for i in range(0,n):\n",
    "    for j in range(0,n):\n",
    "        print(matrix[i][j],end=\" \")\n",
    "    print()\n",
    "        \n",
    "sum1=0\n",
    "sum2=0\n",
    "for i in range(0,n):\n",
    "    for j in range(0,n):\n",
    "        if i==j:\n",
    "            sum1 += matrix[i][j]\n",
    "        if i==n-j-1:\n",
    "            sum2 += matrix[i][j]\n",
    "print(abs(sum1-sum2))\n",
    "    "
   ]
  },
  {
   "cell_type": "markdown",
   "metadata": {},
   "source": [
    "# Day 6"
   ]
  },
  {
   "cell_type": "code",
   "execution_count": 33,
   "metadata": {},
   "outputs": [
    {
     "name": "stdout",
     "output_type": "stream",
     "text": [
      "enter the number of elements: 5\n",
      "1\n",
      "0\n",
      "-1\n",
      "2\n",
      "0\n",
      "[1, 0, -1, 2, 0]\n",
      "0.4\n",
      "0.2\n",
      "0.4\n"
     ]
    }
   ],
   "source": [
    "# Plus Minus hackerank problem solution\n",
    "n=int(input(\"enter the number of elements: \"))\n",
    "arr=[]\n",
    "for i in range(0,n):\n",
    "    arr.append(int(input()))\n",
    "print(arr)\n",
    "count,store,space=0,0,0\n",
    "for i in arr:\n",
    "    if i>0:\n",
    "        count+=1        \n",
    "    elif i<0: \n",
    "        store+=1    \n",
    "    else:\n",
    "        space+=1\n",
    "    \n",
    "print(count/n)\n",
    "print(store/n)\n",
    "print(space/n)\n",
    "\n",
    "\n",
    "\n",
    "\n"
   ]
  },
  {
   "cell_type": "markdown",
   "metadata": {},
   "source": []
  },
  {
   "cell_type": "markdown",
   "metadata": {},
   "source": [
    "# Day 7"
   ]
  },
  {
   "cell_type": "code",
   "execution_count": 11,
   "metadata": {},
   "outputs": [
    {
     "name": "stdout",
     "output_type": "stream",
     "text": [
      "enter the size: 4\n",
      "   #\n",
      "  ##\n",
      " ###\n",
      "####\n"
     ]
    }
   ],
   "source": [
    "# Staircase problem solving solution hackerank\n",
    "n=int(input(\"enter the size: \"))\n",
    "for i in range(0,n):\n",
    "    for j in range(0,n-(i+1)):\n",
    "        print(\" \",end=\"\")\n",
    "    for j in range(n-(i+1),n):\n",
    "        print(\"#\",end=\"\")\n",
    "    print(\"\")"
   ]
  },
  {
   "cell_type": "code",
   "execution_count": 12,
   "metadata": {},
   "outputs": [
    {
     "name": "stdout",
     "output_type": "stream",
     "text": [
      "enter the size: 3\n",
      "  #\n",
      " ##\n",
      "###\n"
     ]
    }
   ],
   "source": [
    "# Alternative solution for staircase problem\n",
    "n=int(input(\"enter the size: \"))\n",
    "for i in range(1, n + 1):\n",
    "        print(str('#'*i).rjust(n))"
   ]
  },
  {
   "cell_type": "markdown",
   "metadata": {},
   "source": [
    "# Day 8"
   ]
  },
  {
   "cell_type": "code",
   "execution_count": 4,
   "metadata": {},
   "outputs": [
    {
     "name": "stdout",
     "output_type": "stream",
     "text": [
      "Welcome to week 2, Day8!\n"
     ]
    }
   ],
   "source": [
    "print(\"Welcome to week 2, Day8!\")"
   ]
  },
  {
   "cell_type": "code",
   "execution_count": 20,
   "metadata": {},
   "outputs": [
    {
     "name": "stdout",
     "output_type": "stream",
     "text": [
      "enter the age: 5\n",
      "enter the height of the candles: 3\n",
      "enter the height of the candles: 4\n",
      "enter the height of the candles: 5\n",
      "enter the height of the candles: 4\n",
      "enter the height of the candles: 5\n",
      "[3, 4, 5, 4, 5]\n",
      "2\n"
     ]
    }
   ],
   "source": [
    "# Birthday Cake Candles problem solution hackerank\n",
    "n=int(input(\"enter the age: \"))\n",
    "arr=[]\n",
    "for i in range(0,n):\n",
    "    arr.append(int(input(\"enter the height of the candles: \")))\n",
    "print(arr)\n",
    "mat=max(arr)\n",
    "count=0\n",
    "for i in arr:\n",
    "    if i==mat:\n",
    "        count+=1\n",
    "print(count)"
   ]
  },
  {
   "cell_type": "code",
   "execution_count": 22,
   "metadata": {},
   "outputs": [
    {
     "name": "stdout",
     "output_type": "stream",
     "text": [
      "enter the age: 5\n",
      "enter the height of the candles: 3\n",
      "enter the height of the candles: 4\n",
      "enter the height of the candles: 5\n",
      "enter the height of the candles: 4\n",
      "enter the height of the candles: 5\n",
      "[3, 4, 5, 4, 5]\n",
      "2\n"
     ]
    }
   ],
   "source": [
    "#alternate solution\n",
    "n=int(input(\"enter the age: \"))\n",
    "arr=[]\n",
    "for i in range(0,n):\n",
    "    arr.append(int(input(\"enter the height of the candles: \")))\n",
    "print(arr)\n",
    "print(arr.count(max(arr)))"
   ]
  },
  {
   "cell_type": "markdown",
   "metadata": {},
   "source": [
    "# Day 9"
   ]
  },
  {
   "cell_type": "code",
   "execution_count": 9,
   "metadata": {},
   "outputs": [
    {
     "name": "stdout",
     "output_type": "stream",
     "text": [
      "enter the number of elements you want to insert: 4\n",
      "enter the element of first array: 1\n",
      "enter the element of first array: 3\n",
      "enter the element of first array: 4\n",
      "enter the element of first array: 5\n",
      "enter the element of second array: 6\n",
      "enter the element of second array: 4\n",
      "enter the element of second array: 3\n",
      "enter the element of second array: 1\n",
      "[1, 3, 4, 5]\n",
      "[6, 4, 3, 1]\n",
      "2\n",
      "2\n"
     ]
    }
   ],
   "source": [
    "# Compare the Triplets problem solution hackerrank\n",
    "n=int(input(\"enter the number of elements you want to insert: \"))\n",
    "arr1=[]\n",
    "for i in range(0,n):\n",
    "    arr1.append(int(input(\"enter the element of first array: \")))\n",
    "arr2=[]\n",
    "for i in range(0,n):\n",
    "        arr2.append(int(input(\"enter the element of second array: \")))\n",
    "print(arr1)\n",
    "print(arr2)\n",
    "alice,bob=0,0\n",
    "for i in range(0,n):\n",
    "    if arr1[i]>arr2[i]:\n",
    "        alice+=1\n",
    "    elif arr1[i]<arr2[i]:\n",
    "        bob+=1\n",
    "    else:\n",
    "        pass\n",
    "print(alice)\n",
    "print(bob)"
   ]
  },
  {
   "cell_type": "markdown",
   "metadata": {},
   "source": [
    "# Day 10"
   ]
  },
  {
   "cell_type": "code",
   "execution_count": 24,
   "metadata": {},
   "outputs": [
    {
     "name": "stdout",
     "output_type": "stream",
     "text": [
      "enter the time: 06:43:23PM\n",
      "06:43:23PM\n",
      "18:43:23\n"
     ]
    }
   ],
   "source": [
    "# Time conversion problem solution hackerrank\n",
    "s=str(input(\"enter the time: \"))\n",
    "print(s)\n",
    "AM_PM = s[-2:]\n",
    "s = s[:8]\n",
    "hh, mm, ss = [int(x) for x in s.split(\":\")]\n",
    "\n",
    "if AM_PM == 'PM' and hh != 12:\n",
    "    print('{:02}:{:02}:{:02}'.format(hh+12, mm, ss))\n",
    "elif AM_PM == 'AM' and hh == 12:\n",
    "    print('{:02}:{:02}:{:02}'.format(0, mm, ss))\n",
    "else:\n",
    "    print('{:02}:{:02}:{:02}'.format(hh, mm, ss))"
   ]
  },
  {
   "cell_type": "code",
   "execution_count": 25,
   "metadata": {},
   "outputs": [
    {
     "name": "stdout",
     "output_type": "stream",
     "text": [
      "enter the time: 12:43:12AM\n",
      "12:43:12AM\n",
      "00:43:12\n"
     ]
    }
   ],
   "source": [
    "# Alternate\n",
    "s=str(input(\"enter the time: \"))\n",
    "print(s)\n",
    "if s[-2:] == \"AM\" and s[:2] == \"12\":\n",
    "    print(\"00\"+s[2:-2])\n",
    "elif s[-2:] ==\"AM\":\n",
    "    print(s[:-2])\n",
    "elif s[-2:] == \"PM\" and s[:2] == \"12\":\n",
    "    print(s[:-2])\n",
    "else:\n",
    "    print(s(int(s[:2])+12) + int(s[2:8]))\n",
    "\n"
   ]
  },
  {
   "cell_type": "markdown",
   "metadata": {},
   "source": [
    "# Day 11"
   ]
  },
  {
   "cell_type": "code",
   "execution_count": 27,
   "metadata": {},
   "outputs": [
    {
     "name": "stdout",
     "output_type": "stream",
     "text": [
      "Hey kshitiz, How old are you? 20\n"
     ]
    }
   ],
   "source": [
    "# String Formatting\n",
    "age=20\n",
    "state=\"Hey kshitiz, How old are you? {}\"\n",
    "print(state.format(age))"
   ]
  },
  {
   "cell_type": "code",
   "execution_count": 30,
   "metadata": {},
   "outputs": [
    {
     "name": "stdout",
     "output_type": "stream",
     "text": [
      "Hey, I am kshitiz from Muzaffarnagar, India. \n"
     ]
    }
   ],
   "source": [
    "name=\"kshitiz\"\n",
    "city=\"Muzaffarnagar\"\n",
    "country=\"India\"\n",
    "txt=\"Hey, I am {0} from {1}, {2}. \"\n",
    "print(txt.format(name,city,country))"
   ]
  },
  {
   "cell_type": "code",
   "execution_count": 34,
   "metadata": {},
   "outputs": [
    {
     "name": "stdout",
     "output_type": "stream",
     "text": [
      "Hey Mustang, sports!\n"
     ]
    }
   ],
   "source": [
    "txt=\"Hey {car}, {model}!\"\n",
    "print(txt.format(car=\"Mustang\",model=\"sports\"))"
   ]
  },
  {
   "cell_type": "code",
   "execution_count": 1,
   "metadata": {},
   "outputs": [
    {
     "name": "stdout",
     "output_type": "stream",
     "text": [
      "Enter the number of students: 5\n",
      "enter the marks from 0 to 100: 45\n",
      "enter the marks from 0 to 100: 56\n",
      "enter the marks from 0 to 100: 67\n",
      "enter the marks from 0 to 100: 78\n",
      "enter the marks from 0 to 100: 89\n",
      "[45, 56, 67, 78, 89]\n",
      "45\n",
      "56\n",
      "67\n",
      "80\n",
      "90\n"
     ]
    }
   ],
   "source": [
    "#Grading Students problem solution hackerank\n",
    "n=int(input(\"Enter the number of students: \"))\n",
    "arr=[]\n",
    "for i in range(0,n):\n",
    "    arr.append(int(input(\"enter the marks from 0 to 100: \")))\n",
    "print(arr)\n",
    "for i in arr:\n",
    "    if(i >= 38 and i % 5 >2):\n",
    "        i = i + (5 - (i % 5))\n",
    "        print(i)\n",
    "    else:\n",
    "        print(i)"
   ]
  },
  {
   "cell_type": "code",
   "execution_count": 12,
   "metadata": {},
   "outputs": [
    {
     "name": "stdout",
     "output_type": "stream",
     "text": [
      "Enter the number of students: 5\n",
      "enter the marks from 0 to 100: 45\n",
      "enter the marks from 0 to 100: 56\n",
      "enter the marks from 0 to 100: 67\n",
      "enter the marks from 0 to 100: 78\n",
      "enter the marks from 0 to 100: 89\n",
      "earlier marks are:  [45, 56, 67, 78, 89]\n",
      "final marks are: \n",
      "[45, 56, 67, 80, 90]\n"
     ]
    }
   ],
   "source": [
    "#alternate solution\n",
    "n=int(input(\"Enter the number of students: \"))\n",
    "arr=[]\n",
    "for i in range(0,n):\n",
    "    arr.append(int(input(\"enter the marks from 0 to 100: \")))\n",
    "print(\"earlier marks are: \",arr)\n",
    "print(\"final marks are: \")\n",
    "print([n if n < 38 or n % 5 < 3 else (n + 5 - (n % 5)) for n in arr])"
   ]
  },
  {
   "cell_type": "markdown",
   "metadata": {},
   "source": [
    "# Day 12"
   ]
  },
  {
   "cell_type": "code",
   "execution_count": 13,
   "metadata": {},
   "outputs": [
    {
     "name": "stdout",
     "output_type": "stream",
     "text": [
      "enter the starting point: 7\n",
      "enter the ending point: 10\n",
      "enter the apple tree location: 4\n",
      "enter the orange tree location: 12\n",
      "enter the number of apple: 3\n",
      "enter the apple fruit location: 2\n",
      "enter the apple fruit location: 3\n",
      "enter the apple fruit location: -4\n",
      "[2, 3, -4]\n",
      "enter the number of mango: 3\n",
      "enter the mango fruit location: -4\n",
      "enter the mango fruit location: -3\n",
      "enter the mango fruit location: 3\n",
      "[-4, -3, 3]\n"
     ]
    }
   ],
   "source": [
    "# Apple and orange Problem solution hackerank\n",
    "s=int(input(\"enter the starting point: \"))\n",
    "t=int(input(\"enter the ending point: \"))\n",
    "a=int(input(\"enter the apple tree location: \"))\n",
    "b=int(input(\"enter the orange tree location: \"))\n",
    "m=[]\n",
    "k=int(input(\"enter the number of apple: \"))\n",
    "for i in range(k):\n",
    "    m.append(int(input(\"enter the apple fruit location: \")))\n",
    "print(m)\n",
    "n=[]\n",
    "d=int(input(\"enter the number of mango: \"))\n",
    "for i in range(d):\n",
    "    n.append(int(input(\"enter the mango fruit location: \")))\n",
    "print(n)\n",
    "    \n"
   ]
  },
  {
   "cell_type": "code",
   "execution_count": 28,
   "metadata": {},
   "outputs": [
    {
     "name": "stdout",
     "output_type": "stream",
     "text": [
      "6\n",
      "7\n",
      "0\n",
      "number of apple falls within the region:  1\n",
      "8\n",
      "9\n",
      "15\n",
      "number of mango falls within the region:  2\n"
     ]
    }
   ],
   "source": [
    "apple=0\n",
    "mango=0\n",
    "for i in m:\n",
    "    i=i+a\n",
    "    print(i)\n",
    "    if i>=s and i<=t:\n",
    "        apple+=1\n",
    "    else:\n",
    "        pass\n",
    "print(\"number of apple falls within the region: \",apple)\n",
    "for i in n:\n",
    "    i=i+b\n",
    "    print(i)\n",
    "    if i>=s and i<=t:\n",
    "        mango+=1\n",
    "    else:\n",
    "        pass\n",
    "print(\"number of mango falls within the region: \",mango)    "
   ]
  },
  {
   "cell_type": "code",
   "execution_count": 29,
   "metadata": {},
   "outputs": [
    {
     "name": "stdout",
     "output_type": "stream",
     "text": [
      "1\n",
      "2\n"
     ]
    }
   ],
   "source": [
    "#alternate solution\n",
    "apple,orange=0,0\n",
    "print(sum([1 for i in m if (i+a)>=s and (i+a)<=t]))\n",
    "print(sum([1 for i in n if (i+b)>=s and (i+b)<=t]))"
   ]
  },
  {
   "cell_type": "code",
   "execution_count": 30,
   "metadata": {},
   "outputs": [
    {
     "name": "stdout",
     "output_type": "stream",
     "text": [
      "enter the location of first kangaroo: 0\n",
      "enter the jump distance for first kangaroo: 3\n",
      "enter the location of second kangaroo: 4\n",
      "enter the jump distance for second kangaroo: 2\n",
      "0 3\n",
      "4 2\n"
     ]
    }
   ],
   "source": [
    "#kangaroo problem hackerrank solution\n",
    "x1=int(input(\"enter the location of first kangaroo: \"))\n",
    "v1=int(input(\"enter the jump distance for first kangaroo: \"))\n",
    "x2=int(input(\"enter the location of second kangaroo: \"))\n",
    "v2=int(input(\"enter the jump distance for second kangaroo: \"))\n",
    "print(x1,v1)\n",
    "print(x2,v2)"
   ]
  },
  {
   "cell_type": "code",
   "execution_count": 38,
   "metadata": {},
   "outputs": [
    {
     "name": "stdout",
     "output_type": "stream",
     "text": [
      "YES\n"
     ]
    }
   ],
   "source": [
    "if (x2>x1 and v2>v1) or (x1>x2 and v1>v2):\n",
    "    print(\"NO\")\n",
    "elif (v1-v2==0) or (v2-v1==0):\n",
    "    print(\"NO\")\n",
    "elif x1-x2==0 or x2-x1==0:\n",
    "    print(\"NO\")\n",
    "else:\n",
    "    print(\"YES\")"
   ]
  },
  {
   "cell_type": "code",
   "execution_count": 36,
   "metadata": {},
   "outputs": [
    {
     "name": "stdout",
     "output_type": "stream",
     "text": [
      "['YES']\n"
     ]
    }
   ],
   "source": [
    "#alternate solution\n",
    "print(['YES' if (v1 > v2) and (x2 - x1) % (v2 - v1) == 0 else 'NO'])"
   ]
  },
  {
   "cell_type": "markdown",
   "metadata": {},
   "source": [
    "# Day 13"
   ]
  },
  {
   "cell_type": "code",
   "execution_count": 45,
   "metadata": {},
   "outputs": [
    {
     "name": "stdout",
     "output_type": "stream",
     "text": [
      "array('i', [1, 2, 3, 4, 5, 1, 2, 3])\n",
      "The datatype of array is :  i\n",
      "The itemsize of array is :  4\n",
      "The buffer info. of array is :  (4573674672, 8)\n",
      "2\n"
     ]
    }
   ],
   "source": [
    "#DATA STRUCTURES GEEKSFORGEEKS\n",
    "#ARRAY\n",
    "import array\n",
    "arr=array.array('i',[1,2,3,4,5,1,2,3])\n",
    "print(arr)\n",
    "print (\"The datatype of array is : \",arr.typecode) \n",
    "print (\"The itemsize of array is : \",arr.itemsize) \n",
    "print (\"The buffer info. of array is : \",arr.buffer_info()) \n",
    "print(arr.count(2))  # using count() to count occurrences of 2 in array \n"
   ]
  },
  {
   "cell_type": "code",
   "execution_count": 46,
   "metadata": {},
   "outputs": [
    {
     "name": "stdout",
     "output_type": "stream",
     "text": [
      "array('i', [1, 2, 3, 1, 2, 5])\n"
     ]
    }
   ],
   "source": [
    "#alternative\n",
    "from array import *\n",
    "arr1 = array('i',[1, 2, 3, 1, 2, 5])    \n",
    "print(arr1) "
   ]
  },
  {
   "cell_type": "code",
   "execution_count": 47,
   "metadata": {},
   "outputs": [
    {
     "name": "stdout",
     "output_type": "stream",
     "text": [
      "None\n"
     ]
    }
   ],
   "source": [
    "arr2=[]\n",
    "arr2=arr.extend(arr1)\n",
    "print(arr2)"
   ]
  },
  {
   "cell_type": "code",
   "execution_count": 54,
   "metadata": {},
   "outputs": [
    {
     "name": "stdout",
     "output_type": "stream",
     "text": [
      "enter the number of games: 9\n",
      "enter the score: 10\n",
      "enter the score: 5\n",
      "enter the score: 20\n",
      "enter the score: 20\n",
      "enter the score: 4\n",
      "enter the score: 5\n",
      "enter the score: 2\n",
      "enter the score: 25\n",
      "enter the score: 1\n",
      "[10, 5, 20, 20, 4, 5, 2, 25, 1]\n"
     ]
    }
   ],
   "source": [
    "#Breaking the Records problem solution hackerrank\n",
    "n=int(input(\"enter the number of games: \"))\n",
    "arr=[]\n",
    "for i in range(0,n):\n",
    "    arr.append(int(input(\"enter the score: \")))\n",
    "print(arr)"
   ]
  },
  {
   "cell_type": "code",
   "execution_count": 73,
   "metadata": {},
   "outputs": [
    {
     "name": "stdout",
     "output_type": "stream",
     "text": [
      "2 4\n"
     ]
    }
   ],
   "source": [
    "high=low=arr[0];c1=c2=0\n",
    "for i in arr:\n",
    "    if i>high:\n",
    "        c1+=1;high=i\n",
    "    if i<low:\n",
    "        c2+=1;low=i\n",
    "print(c1,c2) "
   ]
  },
  {
   "cell_type": "markdown",
   "metadata": {},
   "source": [
    "# Day 14"
   ]
  },
  {
   "cell_type": "code",
   "execution_count": 2,
   "metadata": {},
   "outputs": [
    {
     "name": "stdout",
     "output_type": "stream",
     "text": [
      "enter the number of square in a choclate bar: 5\n",
      "enter the number on choclate square: 2\n",
      "enter the number on choclate square: 2\n",
      "enter the number on choclate square: 1\n",
      "enter the number on choclate square: 3\n",
      "enter the number on choclate square: 2\n",
      "[2, 2, 1, 3, 2]\n",
      "enter the value of d: 4\n",
      "enter the value of m: 2\n",
      "4 2\n"
     ]
    }
   ],
   "source": [
    "#Birthday Chocolate problem solution hackerrank\n",
    "k=int(input(\"enter the number of square in a choclate bar: \"))\n",
    "arr=[]\n",
    "for i in range(k):\n",
    "    arr.append(int(input(\"enter the number on choclate square: \")))\n",
    "print(arr)\n",
    "d=int(input(\"enter the value of d: \"))\n",
    "m=int(input(\"enter the value of m: \"))\n",
    "print(d,m)\n"
   ]
  },
  {
   "cell_type": "code",
   "execution_count": 11,
   "metadata": {},
   "outputs": [
    {
     "name": "stdout",
     "output_type": "stream",
     "text": [
      "2\n"
     ]
    }
   ],
   "source": [
    "count=0\n",
    "for i in range(0,k):\n",
    "    add=sum(arr[i:m+i])\n",
    "    if add==d:\n",
    "        count+=1\n",
    "print(count)\n",
    "    "
   ]
  },
  {
   "cell_type": "markdown",
   "metadata": {},
   "source": [
    "# Day 15"
   ]
  },
  {
   "cell_type": "code",
   "execution_count": 1,
   "metadata": {},
   "outputs": [
    {
     "name": "stdout",
     "output_type": "stream",
     "text": [
      "Enter the length of array: 6\n",
      "enter the array value: 2\n",
      "enter the array value: 1\n",
      "enter the array value: 3\n",
      "enter the array value: 4\n",
      "enter the array value: 5\n",
      "enter the array value: 6\n",
      "[2, 1, 3, 4, 5, 6]\n",
      "Enter the integer to divide the pair sum by: 5\n",
      "5\n"
     ]
    }
   ],
   "source": [
    "#Divisible Sum Pairs problem solution hackerrank\n",
    "n=int(input(\"Enter the length of array: \"))\n",
    "arr=[]\n",
    "for i in range(0,n):\n",
    "    arr.append(int(input(\"enter the array value: \")))\n",
    "print(arr)\n",
    "k=int(input(\"Enter the integer to divide the pair sum by: \"))\n",
    "print(k)\n",
    "    "
   ]
  },
  {
   "cell_type": "code",
   "execution_count": 20,
   "metadata": {},
   "outputs": [
    {
     "name": "stdout",
     "output_type": "stream",
     "text": [
      "The number of i,j pairs satisfying the conditions are:  3\n"
     ]
    }
   ],
   "source": [
    "count=0\n",
    "for i in range(0,n-1):\n",
    "    for x in range(i+1,n):\n",
    "        if (arr[i]+arr[x])%k==0:\n",
    "            count+=1\n",
    "print(\"The number of i,j pairs satisfying the conditions are: \",count)\n"
   ]
  },
  {
   "cell_type": "markdown",
   "metadata": {},
   "source": [
    "# Day 16"
   ]
  },
  {
   "cell_type": "code",
   "execution_count": 2,
   "metadata": {},
   "outputs": [
    {
     "name": "stdout",
     "output_type": "stream",
     "text": [
      "enter the size of array: 5\n",
      "enter the element: 2\n",
      "enter the element: 3\n",
      "enter the element: 4\n",
      "enter the element: 5\n",
      "enter the element: 6\n",
      "[2, 3, 4, 5, 6]\n",
      "enter the d value: 4\n"
     ]
    }
   ],
   "source": [
    "#programme for array rotation Geeksforgeeks\n",
    "n=int(input(\"enter the size of array: \"))\n",
    "arr=[]\n",
    "for i in range(n):\n",
    "    arr.append(int(input(\"enter the element: \")))\n",
    "print(arr)\n",
    "d=int(input(\"enter the d value: \"))"
   ]
  },
  {
   "cell_type": "code",
   "execution_count": 15,
   "metadata": {},
   "outputs": [],
   "source": [
    "def leftRotate(arr, d, n): \n",
    "    for i in range(d): \n",
    "        leftRotatebyOne(arr, n) \n",
    "  \n",
    "        def leftRotatebyOne(arr, n): \n",
    "            temp = arr[0] \n",
    "            for i in range(n-1): \n",
    "                arr[i] = arr[i+1] \n",
    "                arr[n-1] = temp \n",
    "          \n",
    "  \n",
    "        def printArray(arr,size): \n",
    "            for i in range(size): \n",
    "                print(\"%d\"% arr[i],end=\" \") \n",
    "  \n",
    "        arr = [1, 2, 3, 4, 5, 6, 7] \n",
    "        leftRotate(arr, 2, 7) \n",
    "        printArray(arr, 7) "
   ]
  },
  {
   "cell_type": "code",
   "execution_count": 16,
   "metadata": {},
   "outputs": [
    {
     "name": "stdout",
     "output_type": "stream",
     "text": [
      "How are you doing: \n"
     ]
    }
   ],
   "source": [
    "print(\"How are you doing: \")"
   ]
  },
  {
   "cell_type": "markdown",
   "metadata": {},
   "source": [
    "# Day 17"
   ]
  },
  {
   "cell_type": "code",
   "execution_count": 1,
   "metadata": {},
   "outputs": [
    {
     "name": "stdout",
     "output_type": "stream",
     "text": [
      "enter the number of socks in a pile: 9\n",
      "enter the colors of the socks: 10\n",
      "enter the colors of the socks: 20\n",
      "enter the colors of the socks: 20\n",
      "enter the colors of the socks: 10\n",
      "enter the colors of the socks: 10\n",
      "enter the colors of the socks: 30\n",
      "enter the colors of the socks: 50\n",
      "enter the colors of the socks: 10\n",
      "enter the colors of the socks: 20\n",
      "[10, 20, 20, 10, 10, 30, 50, 10, 20]\n"
     ]
    }
   ],
   "source": [
    "#Sock Merchant problem solution Hackerrank\n",
    "n=int(input(\"enter the number of socks in a pile: \"))\n",
    "arr=[]\n",
    "for i in range(n):\n",
    "    arr.append(int(input(\"enter the colors of the socks: \")))\n",
    "print(arr)"
   ]
  },
  {
   "cell_type": "code",
   "execution_count": 6,
   "metadata": {},
   "outputs": [
    {
     "name": "stdout",
     "output_type": "stream",
     "text": [
      "3\n"
     ]
    }
   ],
   "source": [
    "count=0 \n",
    "arr.sort()\n",
    "i = 0 \n",
    "while i < (n-1) :\n",
    "    if (arr[i] == arr[i + 1]) :\n",
    "        count += 1 \n",
    "        i = i + 2  \n",
    "    else :\n",
    "        i += 1  \n",
    "print(count)  \n"
   ]
  },
  {
   "cell_type": "markdown",
   "metadata": {},
   "source": [
    "# Day 18"
   ]
  },
  {
   "cell_type": "code",
   "execution_count": 8,
   "metadata": {},
   "outputs": [
    {
     "name": "stdout",
     "output_type": "stream",
     "text": [
      "enter the number of pages in a book: 362\n",
      "enter the page that Brie's teacher wants her to turn to: 83\n",
      "362 83\n"
     ]
    }
   ],
   "source": [
    "#Drwaing book solution Hackerrank\n",
    "n=int(input(\"enter the number of pages in a book: \"))\n",
    "p=int(input(\"enter the page that Brie's teacher wants her to turn to: \"))\n",
    "print(n,p)"
   ]
  },
  {
   "cell_type": "code",
   "execution_count": 31,
   "metadata": {},
   "outputs": [
    {
     "name": "stdout",
     "output_type": "stream",
     "text": [
      "enter the number of pages in a book: 362\n",
      "enter the page that Brie's teacher wants her to turn to: 83\n",
      "the shortest possible turn is:  41\n"
     ]
    }
   ],
   "source": [
    "n=int(input(\"enter the number of pages in a book: \"))\n",
    "p=int(input(\"enter the page that Brie's teacher wants her to turn to: \"))\n",
    "#print(n,p)\n",
    "count=1\n",
    "add=1\n",
    "strike=0\n",
    "for i in range(2,n+1):\n",
    "    if i!=p:\n",
    "        count+=1\n",
    "    else:\n",
    "        store = (count+1)//2\n",
    "if n%2==0:\n",
    "    for i in reversed(range(2,n+1)):\n",
    "        if i!=p:\n",
    "            add+=1\n",
    "        else:\n",
    "            save = add//2\n",
    "    if store<save:\n",
    "        print(\"the shortest possible turn is: \",store)\n",
    "    else:\n",
    "        print(\"the shortest possible turn is: \",save) \n",
    "else:\n",
    "    for i in reversed(range(2,n+1)):\n",
    "        if i!=p:\n",
    "            strike+=1\n",
    "        else:\n",
    "            house = strike//2\n",
    "    if store<house:\n",
    "        print(\"the shortest possible turn is: \",store)\n",
    "    else:\n",
    "        print(\"the shortest possible turn is: \",house)\n"
   ]
  },
  {
   "cell_type": "code",
   "execution_count": 32,
   "metadata": {},
   "outputs": [
    {
     "name": "stdout",
     "output_type": "stream",
     "text": [
      "41\n"
     ]
    }
   ],
   "source": [
    "#alternate solution'\n",
    "print(min(p//2,(n//2-p//2)))"
   ]
  },
  {
   "cell_type": "markdown",
   "metadata": {},
   "source": [
    "# Day 19"
   ]
  },
  {
   "cell_type": "code",
   "execution_count": 10,
   "metadata": {},
   "outputs": [
    {
     "name": "stdout",
     "output_type": "stream",
     "text": [
      "enter the number of steps in Gary's hike: 8\n",
      "enter the charachter that describes the partU\n",
      "enter the charachter that describes the partD\n",
      "enter the charachter that describes the partD\n",
      "enter the charachter that describes the partD\n",
      "enter the charachter that describes the partU\n",
      "enter the charachter that describes the partD\n",
      "enter the charachter that describes the partU\n",
      "enter the charachter that describes the partU\n",
      "['U', 'D', 'D', 'D', 'U', 'D', 'U', 'U']\n"
     ]
    }
   ],
   "source": [
    "#Counting Valley Problem Solution Hackerrank\n",
    "n=int(input(\"enter the number of steps in Gary's hike: \"))\n",
    "arr=[]\n",
    "for i in range(n):\n",
    "    arr.append(input(\"enter the charachter that describes the part\"))\n",
    "print(arr)    \n",
    "    \n",
    "    "
   ]
  },
  {
   "cell_type": "code",
   "execution_count": 4,
   "metadata": {},
   "outputs": [
    {
     "name": "stdout",
     "output_type": "stream",
     "text": [
      "1\n"
     ]
    }
   ],
   "source": [
    "count,valley=0,0\n",
    "for i in arr:\n",
    "    if i==\"U\":\n",
    "        count+=1\n",
    "    else:\n",
    "        count-=1\n",
    "    if i==\"U\" and count==0:\n",
    "        valley+=1\n",
    "print(valley)\n",
    "    "
   ]
  },
  {
   "cell_type": "code",
   "execution_count": 25,
   "metadata": {},
   "outputs": [
    {
     "name": "stdout",
     "output_type": "stream",
     "text": [
      "5\n"
     ]
    }
   ],
   "source": [
    "#alternative solution\n",
    "print('Bon Appetit' if (sum(arr) - arr[k]) // 2 == b else arr[k] // 2)\n"
   ]
  },
  {
   "cell_type": "markdown",
   "metadata": {},
   "source": [
    "# Day 20"
   ]
  },
  {
   "cell_type": "code",
   "execution_count": 9,
   "metadata": {},
   "outputs": [
    {
     "name": "stdout",
     "output_type": "stream",
     "text": [
      "enter the number of queries: 2\n",
      "3 5 4\n",
      "5 7 8\n",
      "Cat B\n",
      "Cat B\n"
     ]
    }
   ],
   "source": [
    "#Cat and a mouse problem Hackerrank solution\n",
    "q=int(input(\"enter the number of queries: \"))\n",
    "for i in range(q):\n",
    "    xyz = input().split()\n",
    "    x = int(xyz[0])\n",
    "    y = int(xyz[1])\n",
    "    z = int(xyz[2])\n",
    "for i in range(q):\n",
    "    if abs(x-z)<abs(y-z):\n",
    "        print(\"Cat A\")\n",
    "    elif abs(x-z)>abs(y-z):\n",
    "        print(\"Cat B\")\n",
    "    else:\n",
    "        print(\"Mouse C\")\n"
   ]
  },
  {
   "cell_type": "markdown",
   "metadata": {},
   "source": [
    "# Day 21"
   ]
  },
  {
   "cell_type": "code",
   "execution_count": 26,
   "metadata": {},
   "outputs": [
    {
     "name": "stdout",
     "output_type": "stream",
     "text": [
      "Enter the Budget: 50\n",
      "Enter the number of keyboard models: 3\n",
      "enter the cost of Keyboard: 30\n",
      "enter the cost of Keyboard: 40\n",
      "enter the cost of Keyboard: 50\n",
      "[30, 40, 50]\n",
      "Enter the number of USB drive models: 2\n",
      "enter the cost of USB: 12\n",
      "enter the cost of USB: 18\n",
      "[12, 18]\n"
     ]
    }
   ],
   "source": [
    "#Electronics Shop Problem Solution Hackerrank\n",
    "b=int(input(\"Enter the Budget: \"))\n",
    "n=int(input(\"Enter the number of keyboard models: \"))\n",
    "arr=[]\n",
    "for i in range(n):\n",
    "    arr.append(int(input(\"enter the cost of Keyboard: \")))\n",
    "print(arr)\n",
    "\n",
    "m=int(input(\"Enter the number of USB drive models: \"))\n",
    "arr1=[]\n",
    "for i in range(m):\n",
    "    arr1.append(int(input(\"enter the cost of USB: \")))\n",
    "print(arr1)\n",
    "    "
   ]
  },
  {
   "cell_type": "code",
   "execution_count": 27,
   "metadata": {},
   "outputs": [
    {
     "name": "stdout",
     "output_type": "stream",
     "text": [
      "48\n"
     ]
    }
   ],
   "source": [
    "ar=[]\n",
    "for i in arr:\n",
    "    for x in arr1:\n",
    "        if i+x<b:\n",
    "            count=i+x\n",
    "            ar.append(count)\n",
    "        else:\n",
    "            pass\n",
    "if len(ar)==0:\n",
    "    print(\"-1\")\n",
    "else:\n",
    "    print(max(ar))"
   ]
  },
  {
   "cell_type": "code",
   "execution_count": 28,
   "metadata": {},
   "outputs": [
    {
     "name": "stdout",
     "output_type": "stream",
     "text": [
      "48\n"
     ]
    }
   ],
   "source": [
    "#alternate solutioin\n",
    "from itertools import product\n",
    "print(max((i+x) if i+x<=b else -1 for i,x in product(arr,arr1)))"
   ]
  },
  {
   "cell_type": "markdown",
   "metadata": {},
   "source": [
    "# Day 22"
   ]
  },
  {
   "cell_type": "code",
   "execution_count": 5,
   "metadata": {},
   "outputs": [
    {
     "name": "stdout",
     "output_type": "stream",
     "text": [
      "enter the number of items ordered: 4\n",
      "enter the bill number that anna hasn't eat: 1\n",
      "enter the bills3\n",
      "enter the bills10\n",
      "enter the bills2\n",
      "enter the bills9\n",
      "[3, 10, 2, 9]\n",
      "the amount of money that Brian charged Anna for her share of the bill: 12\n"
     ]
    }
   ],
   "source": [
    "#Bon Appétit problem solution Hackerrank\n",
    "n=int(input(\"enter the number of items ordered: \"))\n",
    "k=int(input(\"enter the bill number that anna hasn't eat: \"))\n",
    "arr=[]\n",
    "for i in range(n):\n",
    "    arr.append(int(input(\"enter the bills\")))\n",
    "print(arr)\n",
    "b=int(input(\"the amount of money that Brian charged Anna for her share of the bill: \"))"
   ]
  },
  {
   "cell_type": "code",
   "execution_count": 6,
   "metadata": {},
   "outputs": [
    {
     "name": "stdout",
     "output_type": "stream",
     "text": [
      "5\n"
     ]
    }
   ],
   "source": [
    "total=sum(arr)\n",
    "#print(total//2)\n",
    "value=arr[k]\n",
    "count=0\n",
    "for i in arr:\n",
    "    if i==value:\n",
    "        pass\n",
    "    else:\n",
    "        count+=i\n",
    "#print(count//2)\n",
    "if (count//2)==b:\n",
    "    print(\"Bon Appetit\")\n",
    "else:\n",
    "    print(b-count//2)\n",
    "\n"
   ]
  },
  {
   "cell_type": "code",
   "execution_count": 7,
   "metadata": {},
   "outputs": [
    {
     "name": "stdout",
     "output_type": "stream",
     "text": [
      "5\n"
     ]
    }
   ],
   "source": [
    "#alternative solution\n",
    "print('Bon Appetit' if (sum(arr) - arr[k]) // 2 == b else arr[k] // 2)\n",
    "\n"
   ]
  },
  {
   "cell_type": "markdown",
   "metadata": {},
   "source": [
    "# Day 23"
   ]
  },
  {
   "cell_type": "code",
   "execution_count": 15,
   "metadata": {},
   "outputs": [
    {
     "name": "stdout",
     "output_type": "stream",
     "text": [
      "[2, 3, 4, 5, 6, 8, 1, 6, 9]\n"
     ]
    }
   ],
   "source": [
    "#converting one dimensionl array to two dimensional array\n",
    "arr=[[2,3,4],[5,6,8],[1,6,9]]\n",
    "arr1=[]\n",
    "for i in arr:\n",
    "    arr1+=i\n",
    "print(arr1)"
   ]
  },
  {
   "cell_type": "code",
   "execution_count": 8,
   "metadata": {
    "scrolled": true
   },
   "outputs": [
    {
     "name": "stdout",
     "output_type": "stream",
     "text": [
      "enter the size of array: 3\n",
      "enter: 5\n",
      "enter: 3\n",
      "enter: 4\n",
      "enter: 1\n",
      "enter: 5\n",
      "enter: 8\n",
      "enter: 6\n",
      "enter: 4\n",
      "enter: 2\n",
      "5 3 4 \n",
      "1 5 8 \n",
      "6 4 2 \n",
      "[5, 3, 4, 1, 5, 8, 6, 4, 2]\n"
     ]
    }
   ],
   "source": [
    "#Forming a Magic Square problem solution Hackerrank\n",
    "arr=[]\n",
    "n=int(input(\"enter the size of array: \"))\n",
    "for i in range(n):\n",
    "    c=[]\n",
    "    for j in range(n):\n",
    "        c.append(int(input(\"enter: \")))\n",
    "    arr.append(c)\n",
    "for i in range(n):\n",
    "    for j in range(n):\n",
    "        print(arr[i][j],end=\" \")\n",
    "    print()\n",
    "ar=[]\n",
    "for i in arr:\n",
    "    ar+=i\n",
    "print(ar)"
   ]
  },
  {
   "cell_type": "code",
   "execution_count": 9,
   "metadata": {},
   "outputs": [
    {
     "name": "stdout",
     "output_type": "stream",
     "text": [
      "7\n"
     ]
    }
   ],
   "source": [
    "#continue\n",
    "all_n = [[8,1,6,3,5,7,4,9,2],[6,1,8,7,5,3,2,9,4],[4,9,2,3,5,7,8,1,6],[2,9,4,7,5,3,6,1,8],\n",
    "         [8,3,4,1,5,9,6,7,2],[4,3,8,9,5,1,2,7,6],[6,7,2,1,5,9,8,3,4],[2,7,6,9,5,1,4,3,8]]\n",
    "\n",
    "allsum = []\n",
    "for l in all_n:\n",
    "    allsum.append(sum([abs(ar[i]-l[i]) for i in range(9)]))\n",
    "print(min(allsum))"
   ]
  },
  {
   "cell_type": "code",
   "execution_count": 6,
   "metadata": {},
   "outputs": [
    {
     "name": "stdout",
     "output_type": "stream",
     "text": [
      "6\n",
      "15\n",
      "24\n"
     ]
    }
   ],
   "source": [
    "#self revision\n",
    "#sum of each row\n",
    "sum=0\n",
    "for i in range(n):\n",
    "    for j in range(n):\n",
    "        sum+=arr[i][j]\n",
    "    print(sum)\n",
    "    sum=0"
   ]
  },
  {
   "cell_type": "code",
   "execution_count": 7,
   "metadata": {},
   "outputs": [
    {
     "name": "stdout",
     "output_type": "stream",
     "text": [
      "12\n",
      "15\n",
      "18\n"
     ]
    }
   ],
   "source": [
    "#sum of each column\n",
    "sum=0\n",
    "for i in range(n):\n",
    "    for j in range(n):\n",
    "        sum+=arr[j][i]\n",
    "    print(sum)\n",
    "    sum=0"
   ]
  },
  {
   "cell_type": "code",
   "execution_count": 8,
   "metadata": {},
   "outputs": [
    {
     "name": "stdout",
     "output_type": "stream",
     "text": [
      "15\n"
     ]
    }
   ],
   "source": [
    "#sum of first diagonals\n",
    "sum=0\n",
    "for i in range(n):\n",
    "    for j in range(n):\n",
    "        if i==j:\n",
    "            sum+=arr[i][j]\n",
    "        else:\n",
    "            pass\n",
    "print(sum)\n",
    "sum=0\n",
    "        "
   ]
  },
  {
   "cell_type": "code",
   "execution_count": 9,
   "metadata": {},
   "outputs": [
    {
     "name": "stdout",
     "output_type": "stream",
     "text": [
      "15\n"
     ]
    }
   ],
   "source": [
    "#print of second diagnoal\n",
    "for i in range(n):\n",
    "    for j in range(n):\n",
    "        if i==n-j-1:\n",
    "            sum+=arr[i][j]\n",
    "        else:\n",
    "            pass\n",
    "print(sum)"
   ]
  },
  {
   "cell_type": "markdown",
   "metadata": {},
   "source": [
    "# Day 24"
   ]
  },
  {
   "cell_type": "code",
   "execution_count": 47,
   "metadata": {},
   "outputs": [
    {
     "name": "stdout",
     "output_type": "stream",
     "text": [
      "enter the size of array: 8\n",
      "enter: 1\n",
      "enter: 2\n",
      "enter: 3\n",
      "enter: 1\n",
      "enter: 1\n",
      "enter: 2\n",
      "enter: 4\n",
      "enter: 3\n",
      "[1, 2, 3, 1, 1, 2, 4, 3]\n"
     ]
    }
   ],
   "source": [
    "#Picking Number solution Hackerrank\n",
    "a=[]\n",
    "n=int(input(\"enter the size of array: \"))\n",
    "for i in range(n):\n",
    "    a.append(int(input(\"enter: \")))\n",
    "print(a)"
   ]
  },
  {
   "cell_type": "code",
   "execution_count": 50,
   "metadata": {},
   "outputs": [
    {
     "name": "stdout",
     "output_type": "stream",
     "text": [
      "5\n"
     ]
    }
   ],
   "source": [
    "print((max(a.count(x)+a.count(x+1) for x in set(a))))\n"
   ]
  },
  {
   "cell_type": "markdown",
   "metadata": {},
   "source": [
    "# Day 25"
   ]
  },
  {
   "cell_type": "code",
   "execution_count": 12,
   "metadata": {},
   "outputs": [
    {
     "name": "stdout",
     "output_type": "stream",
     "text": [
      "enter the size of the array: 2\n",
      "enter the size of the array: 3\n"
     ]
    }
   ],
   "source": [
    "#Between two sets problems solution Hackerrank\n",
    "n=int(input(\"enter the size of the array: \"))\n",
    "m=int(input(\"enter the size of the array: \"))\n"
   ]
  },
  {
   "cell_type": "code",
   "execution_count": 13,
   "metadata": {},
   "outputs": [
    {
     "name": "stdout",
     "output_type": "stream",
     "text": [
      "enter the elements: 2\n",
      "enter the elements: 4\n",
      "[2, 4]\n",
      "enter the elements: 16\n",
      "enter the elements: 32\n",
      "enter the elements: 96\n",
      "[16, 32, 96]\n"
     ]
    }
   ],
   "source": [
    "a=[]\n",
    "for i in range(n):\n",
    "    a.append(int(input(\"enter the elements: \")))\n",
    "print(a)\n",
    "b=[]\n",
    "for i in range(m):\n",
    "    b.append(int(input(\"enter the elements: \")))\n",
    "print(b)\n",
    "    "
   ]
  },
  {
   "cell_type": "code",
   "execution_count": 14,
   "metadata": {},
   "outputs": [
    {
     "name": "stdout",
     "output_type": "stream",
     "text": [
      "3\n"
     ]
    }
   ],
   "source": [
    "count = 0\n",
    "for q in range(max(a), min(b) +1):\n",
    "    if all(q % arr == 0 for arr in a) and all(brr % q == 0 for brr in b):\n",
    "        count += 1\n",
    "    \n",
    "print(count)"
   ]
  },
  {
   "cell_type": "markdown",
   "metadata": {},
   "source": [
    "# Day 26"
   ]
  },
  {
   "cell_type": "code",
   "execution_count": 1,
   "metadata": {},
   "outputs": [
    {
     "name": "stdout",
     "output_type": "stream",
     "text": [
      "Enter the number of players on the leaderboard.  4\n",
      "enter the scores. 100\n",
      "enter the scores. 90\n",
      "enter the scores. 90\n",
      "enter the scores. 80\n",
      "the number of games Alice plays. 3\n",
      "enter the score of alice game. 70\n",
      "enter the score of alice game. 80\n",
      "enter the score of alice game. 105\n",
      "[100, 90, 90, 80] [70, 80, 105]\n"
     ]
    }
   ],
   "source": [
    "#Climbing the Leaderboard Problem solution Hackerrank\n",
    "n=int(input(\"Enter the number of players on the leaderboard.  \"))\n",
    "scores=[]\n",
    "for i in range(n):\n",
    "    scores.append(int(input(\"enter the scores. \")))\n",
    "m=int(input(\"the number of games Alice plays. \"))\n",
    "alice=[]\n",
    "for i in range(m):\n",
    "    alice.append(int(input(\"enter the score of alice game. \")))\n",
    "print(scores,alice)"
   ]
  },
  {
   "cell_type": "code",
   "execution_count": 2,
   "metadata": {},
   "outputs": [
    {
     "name": "stdout",
     "output_type": "stream",
     "text": [
      "[100, 90, 90, 80]\n",
      "[105, 80, 70]\n"
     ]
    }
   ],
   "source": [
    "scores.sort(reverse=True)\n",
    "alice.sort(reverse=True)\n",
    "print(scores)\n",
    "print(alice)"
   ]
  },
  {
   "cell_type": "code",
   "execution_count": 10,
   "metadata": {},
   "outputs": [
    {
     "name": "stdout",
     "output_type": "stream",
     "text": [
      "1 100\n",
      "2 90\n",
      "2 90\n",
      "3 80\n"
     ]
    }
   ],
   "source": [
    "rank=1\n",
    "print(rank,scores[0])\n",
    "for i in range(1,n):\n",
    "    if scores[i]==scores[i-1]:\n",
    "        rank+=0\n",
    "        print(rank,scores[i])\n",
    "    else:\n",
    "        rank+=1\n",
    "        print(rank,scores[i])\n",
    "        "
   ]
  },
  {
   "cell_type": "code",
   "execution_count": 11,
   "metadata": {},
   "outputs": [
    {
     "name": "stdout",
     "output_type": "stream",
     "text": [
      "1 105\n"
     ]
    }
   ],
   "source": [
    "count=1\n",
    "if alice[0]>=scores[0]:\n",
    "    print(count,alice[0])\n",
    "for i in range(1,m):\n",
    "    if alice[i]==alice[i-1]:\n",
    "        count+=0\n",
    "        print(count,alice[i])\n",
    "    elif alice[i]==scores[i]:\n",
    "        print(rank,alice[i])\n",
    "        "
   ]
  },
  {
   "cell_type": "markdown",
   "metadata": {},
   "source": [
    "# Day 27"
   ]
  },
  {
   "cell_type": "code",
   "execution_count": 21,
   "metadata": {},
   "outputs": [
    {
     "name": "stdout",
     "output_type": "stream",
     "text": [
      "5\n",
      "3\n",
      "4\n"
     ]
    }
   ],
   "source": [
    "#Bisect Algorithm Functions\n",
    "import bisect\n",
    "list1=[23,34,45,56,67,89]\n",
    "print(bisect.bisect(list1,68))\n",
    "print(bisect.bisect_left(list1,46))\n",
    "print(bisect.bisect_right(list1, 57, 0, 5))"
   ]
  },
  {
   "cell_type": "code",
   "execution_count": 23,
   "metadata": {},
   "outputs": [
    {
     "name": "stdout",
     "output_type": "stream",
     "text": [
      "None\n"
     ]
    }
   ],
   "source": [
    "print(bisect.insort(list1,50))\n"
   ]
  },
  {
   "cell_type": "markdown",
   "metadata": {},
   "source": [
    "# Day 37"
   ]
  },
  {
   "cell_type": "code",
   "execution_count": 16,
   "metadata": {},
   "outputs": [
    {
     "name": "stdout",
     "output_type": "stream",
     "text": [
      "enter the number of coins: 7\n",
      "\n",
      "* \n",
      "* * \n",
      "* * * \n",
      "* * * * \n"
     ]
    }
   ],
   "source": [
    "#Arranging coins\n",
    "n=int(input(\"enter the number of coins: \"))\n",
    "count=0\n",
    "for i in range(0,n):\n",
    "        count+=i\n",
    "        if count<=n:\n",
    "            print(\"* \"*i)\n",
    "        else:\n",
    "            print(\"* \"*(count-(n-1)))\n",
    "            break"
   ]
  },
  {
   "cell_type": "code",
   "execution_count": 82,
   "metadata": {},
   "outputs": [
    {
     "name": "stdout",
     "output_type": "stream",
     "text": [
      "enter the number of coins: 8\n",
      "* \n",
      "* * \n",
      "* * * \n",
      "* * \n",
      "3\n"
     ]
    }
   ],
   "source": [
    "#Arranging coins \n",
    "n=int(input(\"enter the number of coins: \"))\n",
    "count=0\n",
    "if n==1:\n",
    "    print(\"1\")\n",
    "for i in range(1,n+1):\n",
    "        count+=i\n",
    "        if count<=n:\n",
    "            store=count\n",
    "            print(\"* \"*i)\n",
    "        else:\n",
    "            print(\"* \"*(n-store))\n",
    "            print(i-1)\n",
    "            break\n",
    "            "
   ]
  },
  {
   "cell_type": "code",
   "execution_count": 77,
   "metadata": {},
   "outputs": [
    {
     "name": "stdout",
     "output_type": "stream",
     "text": [
      "enter the number: 10\n",
      "[1, 2, 3, 4, 5, 6, 8, 9, 10, 12]\n"
     ]
    }
   ],
   "source": [
    "#Ugly Number II\n",
    "n=int(input(\"enter the number: \"))\n",
    "arr=[1]\n",
    "for i in range(1,n*n):\n",
    "    if len(arr)<=n-1:\n",
    "        if (i%2==0 or i%3==0 or i%5==0):\n",
    "            arr.append(i)\n",
    "        else:\n",
    "            pass\n",
    "print(arr)\n",
    "        \n",
    "    "
   ]
  },
  {
   "cell_type": "code",
   "execution_count": 79,
   "metadata": {},
   "outputs": [
    {
     "name": "stdout",
     "output_type": "stream",
     "text": [
      "24\n"
     ]
    }
   ],
   "source": [
    "def maxDivide( a, b ): \n",
    "    while a % b == 0: \n",
    "        a = a / b \n",
    "    return a  \n",
    "def isUgly(no): \n",
    "    no = maxDivide(no, 2) \n",
    "    no = maxDivide(no, 3) \n",
    "    no = maxDivide(no, 5) \n",
    "    return 1 if no == 1 else 0\n",
    "  \n",
    "def getNthUglyNo( n ): \n",
    "    i = 1\n",
    "    count = 1 \n",
    "    while n > count: \n",
    "        i += 1\n",
    "        if isUgly(i): \n",
    "            count += 1\n",
    "    return i \n",
    "  \n",
    "no = getNthUglyNo(15) \n",
    "print(no)"
   ]
  },
  {
   "cell_type": "markdown",
   "metadata": {},
   "source": [
    "# Day 38"
   ]
  },
  {
   "cell_type": "code",
   "execution_count": 80,
   "metadata": {},
   "outputs": [
    {
     "name": "stdout",
     "output_type": "stream",
     "text": [
      "[[2 1]\n",
      " [1 2]]\n"
     ]
    }
   ],
   "source": [
    "#How to count words in text/string for recommendation engine\n",
    "from sklearn.feature_extraction.text import CountVectorizer\n",
    "text = [\"london paris london\", \"paris london paris\"]\n",
    "cv = CountVectorizer()\n",
    "count_matrix = cv.fit_transform(text)\n",
    "print(count_matrix.toarray())"
   ]
  },
  {
   "cell_type": "code",
   "execution_count": 81,
   "metadata": {},
   "outputs": [
    {
     "name": "stdout",
     "output_type": "stream",
     "text": [
      "[[1.  0.8]\n",
      " [0.8 1. ]]\n"
     ]
    }
   ],
   "source": [
    "from sklearn.metrics.pairwise import cosine_similarity\n",
    "similarity_scores = cosine_similarity(count_matrix)\n",
    "print(similarity_scores)"
   ]
  },
  {
   "cell_type": "markdown",
   "metadata": {},
   "source": [
    "# Day 40"
   ]
  },
  {
   "cell_type": "code",
   "execution_count": 10,
   "metadata": {},
   "outputs": [
    {
     "name": "stdout",
     "output_type": "stream",
     "text": [
      "enter the string: my name is kshitiz is gupta\n"
     ]
    }
   ],
   "source": [
    "name = str(input(\"enter the string: \"))"
   ]
  },
  {
   "cell_type": "code",
   "execution_count": 17,
   "metadata": {},
   "outputs": [],
   "source": [
    "def freq(name):\n",
    "    str1=name.split(\" \")\n",
    "    str2=[]\n",
    "    for i in str1:\n",
    "        if i not in str2:\n",
    "            str2.append(i)\n",
    "    for i in range(len(str2)):\n",
    "        print(\"frequency of: \", str2[i], name.count(str2[i]))"
   ]
  },
  {
   "cell_type": "code",
   "execution_count": 18,
   "metadata": {},
   "outputs": [
    {
     "name": "stdout",
     "output_type": "stream",
     "text": [
      "frequency of:  my 1\n",
      "frequency of:  name 1\n",
      "frequency of:  is 2\n",
      "frequency of:  kshitiz 1\n",
      "frequency of:  gupta 1\n"
     ]
    }
   ],
   "source": [
    "freq(name)"
   ]
  },
  {
   "cell_type": "code",
   "execution_count": 21,
   "metadata": {},
   "outputs": [
    {
     "name": "stdout",
     "output_type": "stream",
     "text": [
      "[('my', 2), ('name', 2), ('is', 2), ('kshitiz', 2), ('Gupta.', 1), ('I', 1), ('am', 1), ('20', 1), ('years', 1), ('old.', 1)]\n"
     ]
    }
   ],
   "source": [
    "from collections import Counter \n",
    "data_set = \"my name is kshitiz Gupta. I am 20 years old. my name is kshitiz Gupta\"\n",
    "split_it = data_set.split() \n",
    "Counter = Counter(split_it) \n",
    "most_occur = Counter.most_common(10) \n",
    "print(most_occur) "
   ]
  },
  {
   "cell_type": "markdown",
   "metadata": {},
   "source": [
    "# day 41"
   ]
  },
  {
   "cell_type": "code",
   "execution_count": 3,
   "metadata": {},
   "outputs": [
    {
     "name": "stdout",
     "output_type": "stream",
     "text": [
      "hello\n",
      "first -1\n"
     ]
    }
   ],
   "source": [
    "#coursera certification problems\n",
    "name='kshitiz'\n",
    "try:\n",
    "    print(\"hello\")\n",
    "    store = int(name)\n",
    "except:\n",
    "    store = -1\n",
    "print('first',store)"
   ]
  },
  {
   "cell_type": "code",
   "execution_count": 4,
   "metadata": {},
   "outputs": [
    {
     "name": "stdout",
     "output_type": "stream",
     "text": [
      "second 123\n"
     ]
    }
   ],
   "source": [
    "name='123'\n",
    "try:\n",
    "    store = int(name)\n",
    "except:\n",
    "    store = -1\n",
    "print('second',store)"
   ]
  },
  {
   "cell_type": "code",
   "execution_count": 5,
   "metadata": {},
   "outputs": [
    {
     "name": "stdout",
     "output_type": "stream",
     "text": [
      "Enter Hours:45\n",
      "Enter rate: 10.50\n",
      "498.75\n"
     ]
    }
   ],
   "source": [
    "#coursera certification problem\n",
    "hrs = float(input(\"Enter Hours:\"))\n",
    "rate = float(input(\"Enter rate: \"))\n",
    "if hrs > 40:\n",
    "    hour = (hrs - 40) * (rate * 0.5)\n",
    "    pay = (hrs * rate) + hour\n",
    "else:\n",
    "    pay = hrs * rate\n",
    "print(pay)"
   ]
  },
  {
   "cell_type": "code",
   "execution_count": 6,
   "metadata": {},
   "outputs": [
    {
     "name": "stdout",
     "output_type": "stream",
     "text": [
      "Enter Score: 0.84\n",
      "B\n"
     ]
    }
   ],
   "source": [
    "score = float(input(\"Enter Score: \"))\n",
    "if score >= 0.9:\n",
    "    print(\"A\")\n",
    "elif score >= 0.8:\n",
    "    print(\"B\")\n",
    "elif score >= 0.7:\n",
    "    print(\"C\")\n",
    "elif score >= 0.6:\n",
    "    print(\"D\")\n",
    "elif score < 0.6:\n",
    "    print(\"F\")\n",
    "else:\n",
    "    print(\"error\")"
   ]
  },
  {
   "cell_type": "code",
   "execution_count": 7,
   "metadata": {},
   "outputs": [
    {
     "data": {
      "text/plain": [
       "'z'"
      ]
     },
     "execution_count": 7,
     "metadata": {},
     "output_type": "execute_result"
    }
   ],
   "source": [
    "b=max(\"kshitiz Gupta\")\n",
    "b"
   ]
  },
  {
   "cell_type": "code",
   "execution_count": 8,
   "metadata": {},
   "outputs": [
    {
     "data": {
      "text/plain": [
       "str"
      ]
     },
     "execution_count": 8,
     "metadata": {},
     "output_type": "execute_result"
    }
   ],
   "source": [
    "type(b)"
   ]
  },
  {
   "cell_type": "code",
   "execution_count": 9,
   "metadata": {},
   "outputs": [
    {
     "data": {
      "text/plain": [
       "46"
      ]
     },
     "execution_count": 9,
     "metadata": {},
     "output_type": "execute_result"
    }
   ],
   "source": [
    "def add(a,b):\n",
    "    added=a+b\n",
    "    return added\n",
    "add(23,23)"
   ]
  },
  {
   "cell_type": "markdown",
   "metadata": {},
   "source": [
    "# Day 42"
   ]
  },
  {
   "cell_type": "code",
   "execution_count": 10,
   "metadata": {},
   "outputs": [
    {
     "name": "stdout",
     "output_type": "stream",
     "text": [
      "[1, 2, 3]\n",
      "[[], [1], [1, 2], [1, 2, 3], [2], [2, 3], [3]]\n"
     ]
    }
   ],
   "source": [
    "#Given a list, print all the possible sublists of it.\n",
    "a=[]\n",
    "a.extend([1,2,3])\n",
    "print(a)\n",
    "b=[[]]\n",
    "for i in range(len(a)+1):\n",
    "    for j in range(i+1,len(a)+1):\n",
    "        sub=a[i:j]   \n",
    "        b.append(sub)\n",
    "print(b)"
   ]
  },
  {
   "cell_type": "code",
   "execution_count": 50,
   "metadata": {},
   "outputs": [
    {
     "ename": "TypeError",
     "evalue": "'list' object is not callable",
     "output_type": "error",
     "traceback": [
      "\u001b[0;31m---------------------------------------------------------------------------\u001b[0m",
      "\u001b[0;31mTypeError\u001b[0m                                 Traceback (most recent call last)",
      "\u001b[0;32m<ipython-input-50-ef40c146e2a0>\u001b[0m in \u001b[0;36m<module>\u001b[0;34m\u001b[0m\n\u001b[1;32m      4\u001b[0m \u001b[0;32mfor\u001b[0m \u001b[0mj\u001b[0m \u001b[0;32min\u001b[0m \u001b[0mrange\u001b[0m\u001b[0;34m(\u001b[0m\u001b[0mlen\u001b[0m\u001b[0;34m(\u001b[0m\u001b[0ml\u001b[0m\u001b[0;34m)\u001b[0m\u001b[0;34m+\u001b[0m\u001b[0;36m1\u001b[0m\u001b[0;34m)\u001b[0m\u001b[0;34m:\u001b[0m\u001b[0;34m\u001b[0m\u001b[0;34m\u001b[0m\u001b[0m\n\u001b[1;32m      5\u001b[0m     \u001b[0;32mfor\u001b[0m \u001b[0mi\u001b[0m \u001b[0;32min\u001b[0m \u001b[0mcombinations\u001b[0m\u001b[0;34m(\u001b[0m\u001b[0ml\u001b[0m\u001b[0;34m,\u001b[0m\u001b[0mj\u001b[0m\u001b[0;34m)\u001b[0m\u001b[0;34m:\u001b[0m\u001b[0;34m\u001b[0m\u001b[0;34m\u001b[0m\u001b[0m\n\u001b[0;32m----> 6\u001b[0;31m         \u001b[0mx\u001b[0m\u001b[0;34m=\u001b[0m\u001b[0mlist\u001b[0m\u001b[0;34m(\u001b[0m\u001b[0mi\u001b[0m\u001b[0;34m)\u001b[0m\u001b[0;34m\u001b[0m\u001b[0;34m\u001b[0m\u001b[0m\n\u001b[0m\u001b[1;32m      7\u001b[0m         \u001b[0msub\u001b[0m\u001b[0;34m.\u001b[0m\u001b[0mappend\u001b[0m\u001b[0;34m(\u001b[0m\u001b[0mx\u001b[0m\u001b[0;34m)\u001b[0m\u001b[0;34m\u001b[0m\u001b[0;34m\u001b[0m\u001b[0m\n\u001b[1;32m      8\u001b[0m \u001b[0mprint\u001b[0m\u001b[0;34m(\u001b[0m\u001b[0mx\u001b[0m\u001b[0;34m)\u001b[0m\u001b[0;34m\u001b[0m\u001b[0;34m\u001b[0m\u001b[0m\n",
      "\u001b[0;31mTypeError\u001b[0m: 'list' object is not callable"
     ]
    }
   ],
   "source": [
    "from itertools import combinations\n",
    "l=[1,2,3]\n",
    "sub=[]\n",
    "for j in range(len(l)+1):\n",
    "    for i in combinations(l,j):\n",
    "        x=list(i) \n",
    "        sub.append(x)\n",
    "print(x)"
   ]
  },
  {
   "cell_type": "code",
   "execution_count": null,
   "metadata": {},
   "outputs": [],
   "source": [
    "#Print the following pattern:\n",
    "1\n",
    "01\n",
    "101\n",
    "0101\n",
    "10101"
   ]
  },
  {
   "cell_type": "code",
   "execution_count": 54,
   "metadata": {},
   "outputs": [
    {
     "name": "stdout",
     "output_type": "stream",
     "text": [
      "5\n",
      "1\n",
      "01\n",
      "101\n",
      "0101\n",
      "10101\n"
     ]
    }
   ],
   "source": [
    "n=int(input())\n",
    "for i in range(n):\n",
    "    if i%2==0:\n",
    "        k=1\n",
    "    else:\n",
    "        k=0\n",
    "    for j in range(n):\n",
    "        if j<=i:\n",
    "            print(k,end=\"\")\n",
    "            k=k^1\n",
    "    print()"
   ]
  },
  {
   "cell_type": "markdown",
   "metadata": {},
   "source": [
    "# Day 43"
   ]
  },
  {
   "cell_type": "code",
   "execution_count": 31,
   "metadata": {},
   "outputs": [
    {
     "data": {
      "text/plain": [
       "array([12, 23, 34, 45, 56])"
      ]
     },
     "execution_count": 31,
     "metadata": {},
     "output_type": "execute_result"
    }
   ],
   "source": [
    "import numpy as np\n",
    "np.unique([12,23,34,45,56,12,23,34])"
   ]
  },
  {
   "cell_type": "code",
   "execution_count": 35,
   "metadata": {},
   "outputs": [
    {
     "name": "stdout",
     "output_type": "stream",
     "text": [
      "[1, 2, 3, 4, 5, 1, 2, 3, 4]\n",
      "{1, 2, 3, 4, 5}\n"
     ]
    }
   ],
   "source": [
    "list=[1,2,3,4,5,1,2,3,4]\n",
    "print(list)\n",
    "print(set(list))"
   ]
  },
  {
   "cell_type": "code",
   "execution_count": 55,
   "metadata": {},
   "outputs": [
    {
     "name": "stdout",
     "output_type": "stream",
     "text": [
      "6 6 4\n",
      "4\n"
     ]
    }
   ],
   "source": [
    "#assignment 5 question 1\n",
    "import math\n",
    "n,m,a=[int(i) for i in input().split()]\n",
    "print(math.ceil(n/a)*math.ceil(m/a))"
   ]
  },
  {
   "cell_type": "code",
   "execution_count": null,
   "metadata": {},
   "outputs": [],
   "source": [
    "#assignment 5 question 2\n",
    "\n",
    "\n"
   ]
  },
  {
   "cell_type": "markdown",
   "metadata": {},
   "source": [
    "# Day 44"
   ]
  },
  {
   "cell_type": "code",
   "execution_count": null,
   "metadata": {},
   "outputs": [],
   "source": []
  },
  {
   "cell_type": "markdown",
   "metadata": {},
   "source": [
    "# Day 45"
   ]
  },
  {
   "cell_type": "code",
   "execution_count": 2,
   "metadata": {},
   "outputs": [
    {
     "name": "stdout",
     "output_type": "stream",
     "text": [
      "enter: 7\n",
      "Invalid input\n",
      "2\n",
      "Invalid input\n",
      "bob\n",
      "Invalid input\n",
      "10\n",
      "Invalid input\n",
      "4\n",
      "Invalid input\n",
      "done\n",
      "Maximum is None\n",
      "Minimum is None\n"
     ]
    }
   ],
   "source": [
    "a = input(\"enter: \")\n",
    "Max = None\n",
    "Min = None\n",
    "while a!= 'done':\n",
    "    try:\n",
    "        x = int(a)\n",
    "        if x > Max or Max == None:\n",
    "            Max = x\n",
    "        if x < Min or Min == None:\n",
    "            Min = x\n",
    "    except:\n",
    "        print('Invalid input')\n",
    "    a = input(\"\")     \n",
    "print(\"Maximum is\",Max)\n",
    "print(\"Minimum is\",Min)"
   ]
  },
  {
   "cell_type": "code",
   "execution_count": 8,
   "metadata": {},
   "outputs": [
    {
     "name": "stdout",
     "output_type": "stream",
     "text": [
      "i\n"
     ]
    }
   ],
   "source": [
    "name='kshitiz'\n",
    "print(name[3])"
   ]
  },
  {
   "cell_type": "markdown",
   "metadata": {},
   "source": [
    "# Day 46"
   ]
  },
  {
   "cell_type": "code",
   "execution_count": 9,
   "metadata": {},
   "outputs": [
    {
     "data": {
      "text/plain": [
       "7"
      ]
     },
     "execution_count": 9,
     "metadata": {},
     "output_type": "execute_result"
    }
   ],
   "source": [
    "len(name)"
   ]
  },
  {
   "cell_type": "code",
   "execution_count": 11,
   "metadata": {},
   "outputs": [
    {
     "name": "stdout",
     "output_type": "stream",
     "text": [
      "0 k\n",
      "1 s\n",
      "2 h\n",
      "3 i\n",
      "4 t\n",
      "5 i\n",
      "6 z\n"
     ]
    }
   ],
   "source": [
    "i=0\n",
    "while i <len(name):\n",
    "    print(i,name[i])\n",
    "    i+=1"
   ]
  },
  {
   "cell_type": "code",
   "execution_count": 12,
   "metadata": {},
   "outputs": [
    {
     "data": {
      "text/plain": [
       "True"
      ]
     },
     "execution_count": 12,
     "metadata": {},
     "output_type": "execute_result"
    }
   ],
   "source": [
    "'z' in name"
   ]
  },
  {
   "cell_type": "code",
   "execution_count": 15,
   "metadata": {},
   "outputs": [
    {
     "name": "stdout",
     "output_type": "stream",
     "text": [
      "oops\n"
     ]
    }
   ],
   "source": [
    "if 'a' in name:\n",
    "    print('yup')\n",
    "else:\n",
    "    print(\"oops\")"
   ]
  },
  {
   "cell_type": "code",
   "execution_count": 16,
   "metadata": {},
   "outputs": [
    {
     "data": {
      "text/plain": [
       "['__add__',\n",
       " '__class__',\n",
       " '__contains__',\n",
       " '__delattr__',\n",
       " '__dir__',\n",
       " '__doc__',\n",
       " '__eq__',\n",
       " '__format__',\n",
       " '__ge__',\n",
       " '__getattribute__',\n",
       " '__getitem__',\n",
       " '__getnewargs__',\n",
       " '__gt__',\n",
       " '__hash__',\n",
       " '__init__',\n",
       " '__init_subclass__',\n",
       " '__iter__',\n",
       " '__le__',\n",
       " '__len__',\n",
       " '__lt__',\n",
       " '__mod__',\n",
       " '__mul__',\n",
       " '__ne__',\n",
       " '__new__',\n",
       " '__reduce__',\n",
       " '__reduce_ex__',\n",
       " '__repr__',\n",
       " '__rmod__',\n",
       " '__rmul__',\n",
       " '__setattr__',\n",
       " '__sizeof__',\n",
       " '__str__',\n",
       " '__subclasshook__',\n",
       " 'capitalize',\n",
       " 'casefold',\n",
       " 'center',\n",
       " 'count',\n",
       " 'encode',\n",
       " 'endswith',\n",
       " 'expandtabs',\n",
       " 'find',\n",
       " 'format',\n",
       " 'format_map',\n",
       " 'index',\n",
       " 'isalnum',\n",
       " 'isalpha',\n",
       " 'isascii',\n",
       " 'isdecimal',\n",
       " 'isdigit',\n",
       " 'isidentifier',\n",
       " 'islower',\n",
       " 'isnumeric',\n",
       " 'isprintable',\n",
       " 'isspace',\n",
       " 'istitle',\n",
       " 'isupper',\n",
       " 'join',\n",
       " 'ljust',\n",
       " 'lower',\n",
       " 'lstrip',\n",
       " 'maketrans',\n",
       " 'partition',\n",
       " 'replace',\n",
       " 'rfind',\n",
       " 'rindex',\n",
       " 'rjust',\n",
       " 'rpartition',\n",
       " 'rsplit',\n",
       " 'rstrip',\n",
       " 'split',\n",
       " 'splitlines',\n",
       " 'startswith',\n",
       " 'strip',\n",
       " 'swapcase',\n",
       " 'title',\n",
       " 'translate',\n",
       " 'upper',\n",
       " 'zfill']"
      ]
     },
     "execution_count": 16,
     "metadata": {},
     "output_type": "execute_result"
    }
   ],
   "source": [
    "dir(name)"
   ]
  },
  {
   "cell_type": "code",
   "execution_count": 17,
   "metadata": {},
   "outputs": [
    {
     "name": "stdout",
     "output_type": "stream",
     "text": [
      "2\n"
     ]
    }
   ],
   "source": [
    "fruit = 'banana'\n",
    "a = fruit.find('na')\n",
    "print(a)"
   ]
  },
  {
   "cell_type": "code",
   "execution_count": 18,
   "metadata": {},
   "outputs": [
    {
     "name": "stdout",
     "output_type": "stream",
     "text": [
      "-1\n"
     ]
    }
   ],
   "source": [
    "a = fruit.find('z')\n",
    "print(a)"
   ]
  },
  {
   "cell_type": "code",
   "execution_count": 21,
   "metadata": {},
   "outputs": [
    {
     "name": "stdout",
     "output_type": "stream",
     "text": [
      "Banana\n",
      "BANANA\n",
      "banana\n"
     ]
    }
   ],
   "source": [
    "print(fruit.capitalize())\n",
    "print(fruit.upper())\n",
    "print(fruit.lower())"
   ]
  },
  {
   "cell_type": "code",
   "execution_count": 23,
   "metadata": {},
   "outputs": [
    {
     "name": "stdout",
     "output_type": "stream",
     "text": [
      "bknknk\n"
     ]
    }
   ],
   "source": [
    "print(fruit.replace('a','k'))"
   ]
  },
  {
   "cell_type": "code",
   "execution_count": 26,
   "metadata": {},
   "outputs": [
    {
     "name": "stdout",
     "output_type": "stream",
     "text": [
      "shraddha   \n",
      "  shraddha\n",
      "shraddha\n"
     ]
    }
   ],
   "source": [
    "greet = \"  shraddha   \"\n",
    "print(greet.lstrip())\n",
    "print(greet.rstrip())\n",
    "print(greet.strip())"
   ]
  },
  {
   "cell_type": "code",
   "execution_count": 31,
   "metadata": {},
   "outputs": [
    {
     "name": "stdout",
     "output_type": "stream",
     "text": [
      "True\n",
      "False\n"
     ]
    }
   ],
   "source": [
    "print(greet.startswith(\"  shraddha\"))\n",
    "print(greet.startswith(\"S\"))"
   ]
  },
  {
   "cell_type": "code",
   "execution_count": 32,
   "metadata": {},
   "outputs": [
    {
     "name": "stdout",
     "output_type": "stream",
     "text": [
      "0.8475\n"
     ]
    }
   ],
   "source": [
    "#coursera problem\n",
    "text = \"X-DSPAM-Confidence:    0.8475\";\n",
    "a = text.find(\":\")\n",
    "p = text[a+2:]\n",
    "v = float(p)\n",
    "print(v)"
   ]
  },
  {
   "cell_type": "markdown",
   "metadata": {},
   "source": [
    "# Day 47"
   ]
  },
  {
   "cell_type": "code",
   "execution_count": null,
   "metadata": {},
   "outputs": [],
   "source": [
    "#coursera solution\n",
    "fname = input(\"Enter file name: \")\n",
    "fh = open(fname)\n",
    "l=0\n",
    "i=0\n",
    "for line in fh:\n",
    "    if line.startswith(\"X-DSPAM-Confidence:\"):\n",
    "        ly = line[20:]\n",
    "        l+=float(ly)\n",
    "        i+=1\n",
    "    else:\n",
    "        pass\n",
    "print(\"Average spam confidence:\",l/i)"
   ]
  },
  {
   "cell_type": "code",
   "execution_count": 34,
   "metadata": {},
   "outputs": [
    {
     "name": "stdout",
     "output_type": "stream",
     "text": [
      "10\n"
     ]
    }
   ],
   "source": [
    "exec('''x=10\n",
    "print(x)''')"
   ]
  },
  {
   "cell_type": "code",
   "execution_count": 36,
   "metadata": {},
   "outputs": [
    {
     "name": "stdout",
     "output_type": "stream",
     "text": [
      "even\n"
     ]
    }
   ],
   "source": [
    "a=10\n",
    "if a&1==0:\n",
    "    print('even')\n",
    "else:\n",
    "    pass"
   ]
  },
  {
   "cell_type": "markdown",
   "metadata": {},
   "source": [
    "# Day 48"
   ]
  },
  {
   "cell_type": "code",
   "execution_count": null,
   "metadata": {},
   "outputs": [],
   "source": [
    "#Question\n",
    "Title: Character Compression\n",
    "Given a string, compress the characters in the string in such a way that if a character is present multiple times contiguously then that would be replaced by a single character. See the sample input and output for an example.\n",
    "Input1: bbaannaannaa\n",
    "Output1: banana"
   ]
  },
  {
   "cell_type": "code",
   "execution_count": 5,
   "metadata": {},
   "outputs": [
    {
     "name": "stdout",
     "output_type": "stream",
     "text": [
      "enter the string: aapachhess\n",
      "aapachhess\n"
     ]
    }
   ],
   "source": [
    "#Solution\n",
    "s = str(input(\"enter the string: \"))\n",
    "print(s)"
   ]
  },
  {
   "cell_type": "code",
   "execution_count": 8,
   "metadata": {},
   "outputs": [
    {
     "name": "stdout",
     "output_type": "stream",
     "text": [
      "apaches\n"
     ]
    }
   ],
   "source": [
    "for i in range(len(s)-1):\n",
    "    if s[i]!=s[i+1]:\n",
    "        print(s[i],end='')\n",
    "print(s[-1])"
   ]
  },
  {
   "cell_type": "code",
   "execution_count": null,
   "metadata": {},
   "outputs": [],
   "source": [
    "#Question\n",
    "Print the input user string message as a compressed message."
   ]
  },
  {
   "cell_type": "code",
   "execution_count": 13,
   "metadata": {},
   "outputs": [
    {
     "name": "stdout",
     "output_type": "stream",
     "text": [
      "abcaaabbb  \n",
      "abca3b3 2\n"
     ]
    }
   ],
   "source": [
    "a=input()\n",
    "count=1\n",
    "for i in range(len(a)-1):\n",
    "    if a[i]==a[i+1]:\n",
    "        count+=1\n",
    "    else:\n",
    "        if count!=1:\n",
    "            print(a[i]+str(count),end=\"\")\n",
    "            count=1\n",
    "        else:\n",
    "            print(a[i],end=\"\")\n",
    "if count!=1:\n",
    "    print(a[-1]+str(count))\n",
    "else:\n",
    "    print(a[-1])\n",
    "    "
   ]
  },
  {
   "cell_type": "code",
   "execution_count": 83,
   "metadata": {},
   "outputs": [
    {
     "name": "stdout",
     "output_type": "stream",
     "text": [
      "abcd\n",
      "ab0c0d0\n"
     ]
    }
   ],
   "source": [
    "#solution\n",
    "s=input()\n",
    "count=1\n",
    "for i in range(len(s)-1):\n",
    "        if s[i]==s[i+1]:\n",
    "            count+=1\n",
    "        else:\n",
    "            if count!=1:\n",
    "                print(s[i]+str(count),end=\"\")\n",
    "            else:\n",
    "                print(s[i],end=\"\")\n",
    "        count=0\n",
    "            \n",
    "if count!=1:\n",
    "    print(s[-1]+str(count))\n",
    "else:\n",
    "    print(s[-1])\n"
   ]
  },
  {
   "cell_type": "code",
   "execution_count": 84,
   "metadata": {},
   "outputs": [
    {
     "name": "stdout",
     "output_type": "stream",
     "text": [
      "checkcheckcheck\n"
     ]
    }
   ],
   "source": [
    "a=(\"check\")*3\n",
    "print(a)"
   ]
  },
  {
   "cell_type": "code",
   "execution_count": 85,
   "metadata": {},
   "outputs": [
    {
     "name": "stdout",
     "output_type": "stream",
     "text": [
      "['ab', 'ef', 'ghcd']\n"
     ]
    }
   ],
   "source": [
    "#split function in python split('__',__)\n",
    "print('abcdefcdghcd'.split('cd', 2))"
   ]
  },
  {
   "cell_type": "code",
   "execution_count": 86,
   "metadata": {},
   "outputs": [
    {
     "name": "stdout",
     "output_type": "stream",
     "text": [
      "*  abcdef *\n"
     ]
    }
   ],
   "source": [
    "#center function in python \n",
    "print('*', \"abcdef\".center(7), '*') "
   ]
  },
  {
   "cell_type": "markdown",
   "metadata": {},
   "source": [
    "# Day 49"
   ]
  },
  {
   "cell_type": "code",
   "execution_count": 1,
   "metadata": {},
   "outputs": [
    {
     "name": "stdout",
     "output_type": "stream",
     "text": [
      "ksht33z g5pt1 3s 1 b4y\n"
     ]
    }
   ],
   "source": [
    "#regex academy strings function\n",
    "s = \"kshtiiz gupta is a boy\"\n",
    "x = s.maketrans(\"aeiou\",\"12345\")\n",
    "print(s.translate(x))"
   ]
  },
  {
   "cell_type": "code",
   "execution_count": 4,
   "metadata": {},
   "outputs": [
    {
     "name": "stdout",
     "output_type": "stream",
     "text": [
      "ksht33z 3s 1 c44l\n",
      "{97: 49, 101: 50, 105: 51, 111: 52, 117: 53}\n"
     ]
    }
   ],
   "source": [
    "s = \"kshtiiz is a cool\"\n",
    "print(s.translate(s.maketrans(\"aeiou\",\"12345\")))\n",
    "print(s.maketrans(\"aeiou\",\"12345\"))"
   ]
  },
  {
   "cell_type": "code",
   "execution_count": 12,
   "metadata": {},
   "outputs": [
    {
     "name": "stdout",
     "output_type": "stream",
     "text": [
      "python****\n",
      "0000python\n",
      "**python**\n"
     ]
    }
   ],
   "source": [
    "k=\"python\"\n",
    "print(k.ljust(10,\"*\"))\n",
    "print(k.zfill(10))\n",
    "print(k.center(10,\"*\"))"
   ]
  },
  {
   "cell_type": "code",
   "execution_count": 14,
   "metadata": {},
   "outputs": [
    {
     "name": "stdout",
     "output_type": "stream",
     "text": [
      "(12, 14, 13, 14, 15)\n"
     ]
    }
   ],
   "source": [
    "a1=(12,14)\n",
    "a2=(13,14,15)\n",
    "print(a1+a2)"
   ]
  },
  {
   "cell_type": "code",
   "execution_count": 16,
   "metadata": {},
   "outputs": [
    {
     "name": "stdout",
     "output_type": "stream",
     "text": [
      "6\n"
     ]
    }
   ],
   "source": [
    "set1={1,2,3}\n",
    "set2={4,5,6}\n",
    "print(len(set1)+len(set2))"
   ]
  },
  {
   "cell_type": "markdown",
   "metadata": {},
   "source": [
    "# Day 50"
   ]
  },
  {
   "cell_type": "code",
   "execution_count": 11,
   "metadata": {},
   "outputs": [
    {
     "name": "stdout",
     "output_type": "stream",
     "text": [
      "abcaaabbb\n",
      "a"
     ]
    }
   ],
   "source": [
    "#abcaaabbb\n",
    "a=input()\n",
    "count=1\n",
    "print(a[0],end=\"\")\n",
    "for i in range(1,len(a)):\n",
    "    if a[i]==a[i-1]:\n",
    "        count+=1\n",
    "    else:\n",
    "        "
   ]
  },
  {
   "cell_type": "code",
   "execution_count": 15,
   "metadata": {},
   "outputs": [
    {
     "name": "stdout",
     "output_type": "stream",
     "text": [
      "qwertyuiopasdfghjklzxcvbnm\n",
      "panagram\n"
     ]
    }
   ],
   "source": [
    "#pangram question\n",
    "import string \n",
    "s=set(input().lower())\n",
    "alpha=set(string.ascii_lowercase)\n",
    "if alpha<=s:\n",
    "    print(\"panagram\")\n",
    "else:\n",
    "    print(\"not panagram\")"
   ]
  },
  {
   "cell_type": "code",
   "execution_count": 17,
   "metadata": {},
   "outputs": [
    {
     "name": "stdout",
     "output_type": "stream",
     "text": [
      "[(1, 2), (1, 3), (1, 4), (2, 3), (2, 4), (3, 4)]\n"
     ]
    }
   ],
   "source": [
    "from itertools import combinations\n",
    "l=[1,2,3,4]\n",
    "print(list(combinations(l,2)))"
   ]
  },
  {
   "cell_type": "code",
   "execution_count": 25,
   "metadata": {},
   "outputs": [
    {
     "name": "stdout",
     "output_type": "stream",
     "text": [
      "yCKiblmT\n"
     ]
    }
   ],
   "source": [
    "#generate otp\n",
    "import random\n",
    "import string\n",
    "print(\"\".join([random.choice(list(string.ascii_letters + string.digits)) for i in range(8)]))"
   ]
  },
  {
   "cell_type": "code",
   "execution_count": 26,
   "metadata": {},
   "outputs": [
    {
     "name": "stdout",
     "output_type": "stream",
     "text": [
      "[None, None]\n"
     ]
    }
   ],
   "source": [
    "def to_upper(k):\n",
    "    k.upper()\n",
    "x=['ab','cd']\n",
    "print(list(map(to_upper,x)))"
   ]
  },
  {
   "cell_type": "code",
   "execution_count": 34,
   "metadata": {},
   "outputs": [
    {
     "name": "stdout",
     "output_type": "stream",
     "text": [
      "10 (23, 45, 56)\n"
     ]
    }
   ],
   "source": [
    "#b=variable length argument\n",
    "def sum(a, *b):\n",
    "    print(a,b)\n",
    "sum(10,23,45,56)"
   ]
  },
  {
   "cell_type": "code",
   "execution_count": 38,
   "metadata": {},
   "outputs": [
    {
     "ename": "TypeError",
     "evalue": "add() missing 1 required positional argument: 'a'",
     "output_type": "error",
     "traceback": [
      "\u001b[0;31m---------------------------------------------------------------------------\u001b[0m",
      "\u001b[0;31mTypeError\u001b[0m                                 Traceback (most recent call last)",
      "\u001b[0;32m<ipython-input-38-0f34c280de08>\u001b[0m in \u001b[0;36m<module>\u001b[0;34m\u001b[0m\n\u001b[1;32m      2\u001b[0m \u001b[0;32mdef\u001b[0m \u001b[0madd\u001b[0m\u001b[0;34m(\u001b[0m\u001b[0ma\u001b[0m\u001b[0;34m,\u001b[0m \u001b[0;34m**\u001b[0m\u001b[0mb\u001b[0m\u001b[0;34m)\u001b[0m\u001b[0;34m:\u001b[0m\u001b[0;34m\u001b[0m\u001b[0;34m\u001b[0m\u001b[0m\n\u001b[1;32m      3\u001b[0m     \u001b[0mprint\u001b[0m\u001b[0;34m(\u001b[0m\u001b[0mname\u001b[0m\u001b[0;34m,\u001b[0m\u001b[0mb\u001b[0m\u001b[0;34m)\u001b[0m\u001b[0;34m\u001b[0m\u001b[0;34m\u001b[0m\u001b[0m\n\u001b[0;32m----> 4\u001b[0;31m \u001b[0madd\u001b[0m\u001b[0;34m(\u001b[0m\u001b[0mname\u001b[0m\u001b[0;34m=\u001b[0m\u001b[0;34m\"kshitiz\"\u001b[0m\u001b[0;34m,\u001b[0m\u001b[0mroll\u001b[0m\u001b[0;34m=\u001b[0m\u001b[0;36m27\u001b[0m\u001b[0;34m,\u001b[0m\u001b[0mmarks\u001b[0m\u001b[0;34m=\u001b[0m\u001b[0;36m45\u001b[0m\u001b[0;34m,\u001b[0m\u001b[0mdistance\u001b[0m\u001b[0;34m=\u001b[0m\u001b[0;36m56\u001b[0m\u001b[0;34m)\u001b[0m\u001b[0;34m\u001b[0m\u001b[0;34m\u001b[0m\u001b[0m\n\u001b[0m",
      "\u001b[0;31mTypeError\u001b[0m: add() missing 1 required positional argument: 'a'"
     ]
    }
   ],
   "source": [
    "# **kwargs\n",
    "def add(a, **b):\n",
    "    print(name,b)\n",
    "add(name=\"kshitiz\",roll=27,marks=45,distance=56)"
   ]
  },
  {
   "cell_type": "code",
   "execution_count": 40,
   "metadata": {},
   "outputs": [
    {
     "data": {
      "text/plain": [
       "12"
      ]
     },
     "execution_count": 40,
     "metadata": {},
     "output_type": "execute_result"
    }
   ],
   "source": [
    "#lambda function\n",
    "#lambda function can't return multiple value as normal function do\n",
    "f = lambda a: a+2\n",
    "f(10)"
   ]
  },
  {
   "cell_type": "markdown",
   "metadata": {},
   "source": [
    "# day 51"
   ]
  },
  {
   "cell_type": "code",
   "execution_count": 2,
   "metadata": {},
   "outputs": [
    {
     "name": "stdout",
     "output_type": "stream",
     "text": [
      "3\n"
     ]
    }
   ],
   "source": [
    "#decorators \n",
    "def sub(a,b):\n",
    "    print(a-b)\n",
    "    return\n",
    "\n",
    "def mod_sub(fun):\n",
    "    def inner(a,b):\n",
    "        if a<b:\n",
    "            a,b = b,a\n",
    "        fun(a,b)\n",
    "    return inner\n",
    "\n",
    "sub=mod_sub(sub)\n",
    "sub(2,5)"
   ]
  },
  {
   "cell_type": "code",
   "execution_count": 6,
   "metadata": {},
   "outputs": [
    {
     "name": "stdout",
     "output_type": "stream",
     "text": [
      "2\n"
     ]
    }
   ],
   "source": [
    "#decorators \n",
    "def mod_sub(fun):\n",
    "    def inner(a,b):\n",
    "        if a<b:\n",
    "            a,b = b,a\n",
    "        fun(a,b)\n",
    "    return inner\n",
    "\n",
    "@mod_sub\n",
    "def sub(a,b):\n",
    "    print(a-b)\n",
    "    return\n",
    "\n",
    "sub(5,3)"
   ]
  },
  {
   "cell_type": "code",
   "execution_count": 11,
   "metadata": {},
   "outputs": [
    {
     "name": "stdout",
     "output_type": "stream",
     "text": [
      "[2, 4, 6, 8]\n"
     ]
    }
   ],
   "source": [
    "def fun(a):\n",
    "        return a%2==0 \n",
    "l=[1,2,3,4,5,6,7,8]\n",
    "print(list(filter(fun,l)))"
   ]
  },
  {
   "cell_type": "code",
   "execution_count": 12,
   "metadata": {},
   "outputs": [
    {
     "name": "stdout",
     "output_type": "stream",
     "text": [
      "[2, 4, 6, 8]\n"
     ]
    }
   ],
   "source": [
    "l=[1,2,3,4,5,6,7,8]\n",
    "print(list(filter(lambda a: a%2==0,l)))"
   ]
  },
  {
   "cell_type": "code",
   "execution_count": 13,
   "metadata": {},
   "outputs": [
    {
     "name": "stdout",
     "output_type": "stream",
     "text": [
      "[1, 3, 5, 7]\n"
     ]
    }
   ],
   "source": [
    "l=[1,2,3,4,5,6,7,8]\n",
    "print(list(filter(lambda a: a%2,l)))"
   ]
  },
  {
   "cell_type": "code",
   "execution_count": 14,
   "metadata": {},
   "outputs": [
    {
     "name": "stdout",
     "output_type": "stream",
     "text": [
      "[2, 4, 6, 8, 10, 12, 14, 16]\n"
     ]
    }
   ],
   "source": [
    "l=[1,2,3,4,5,6,7,8]\n",
    "print(list(map(lambda a: a*2,l)))"
   ]
  },
  {
   "cell_type": "code",
   "execution_count": 15,
   "metadata": {},
   "outputs": [
    {
     "name": "stdout",
     "output_type": "stream",
     "text": [
      "45\n"
     ]
    }
   ],
   "source": [
    "#gives final result.\n",
    "import functools as ft\n",
    "l=[1,2,3,4,5,6,7,8,9]\n",
    "print(ft.reduce(lambda a,b: a+b,l))"
   ]
  },
  {
   "cell_type": "code",
   "execution_count": 30,
   "metadata": {},
   "outputs": [
    {
     "name": "stdout",
     "output_type": "stream",
     "text": [
      "[1, 3, 6, 10, 15, 21]\n"
     ]
    }
   ],
   "source": [
    "#Gives intermediate result also.\n",
    "import itertools as it\n",
    "l=[1,2,3,4,5,6]\n",
    "print(list(it.accumulate(l,lambda a,b: a+b)))"
   ]
  },
  {
   "cell_type": "code",
   "execution_count": 23,
   "metadata": {},
   "outputs": [
    {
     "name": "stdout",
     "output_type": "stream",
     "text": [
      "[(1, 2), (1, 3), (1, 4), (1, 5), (1, 6), (2, 1), (2, 3), (2, 4), (2, 5), (2, 6), (3, 1), (3, 2), (3, 4), (3, 5), (3, 6), (4, 1), (4, 2), (4, 3), (4, 5), (4, 6), (5, 1), (5, 2), (5, 3), (5, 4), (5, 6), (6, 1), (6, 2), (6, 3), (6, 4), (6, 5)]\n"
     ]
    }
   ],
   "source": [
    "import itertools as it\n",
    "l=[1,2,3,4,5,6]\n",
    "print(list(it.permutations(l,2)))"
   ]
  },
  {
   "cell_type": "code",
   "execution_count": 24,
   "metadata": {},
   "outputs": [
    {
     "name": "stdout",
     "output_type": "stream",
     "text": [
      "[(1, 2), (1, 3), (1, 4), (1, 5), (1, 6), (2, 3), (2, 4), (2, 5), (2, 6), (3, 4), (3, 5), (3, 6), (4, 5), (4, 6), (5, 6)]\n"
     ]
    }
   ],
   "source": [
    "import itertools as it\n",
    "l=[1,2,3,4,5,6]\n",
    "print(list(it.combinations(l,2)))"
   ]
  },
  {
   "cell_type": "code",
   "execution_count": 31,
   "metadata": {},
   "outputs": [
    {
     "name": "stdout",
     "output_type": "stream",
     "text": [
      "21\n"
     ]
    }
   ],
   "source": [
    "l=[1,2,3,4,5,6]\n",
    "print(sum([i for i in l]))"
   ]
  },
  {
   "cell_type": "code",
   "execution_count": 32,
   "metadata": {},
   "outputs": [
    {
     "name": "stdout",
     "output_type": "stream",
     "text": [
      "720\n"
     ]
    }
   ],
   "source": [
    "import numpy as np\n",
    "l=[1,2,3,4,5,6]\n",
    "print(np.product(l))"
   ]
  },
  {
   "cell_type": "code",
   "execution_count": 33,
   "metadata": {},
   "outputs": [
    {
     "name": "stdout",
     "output_type": "stream",
     "text": [
      "[[0, 0, 0], [0, 1, 2], [0, 2, 4], [0, 3, 6]]\n"
     ]
    }
   ],
   "source": [
    "print([[i*j for j in range(3)]for i in range(4)])"
   ]
  },
  {
   "cell_type": "code",
   "execution_count": 34,
   "metadata": {},
   "outputs": [
    {
     "name": "stdout",
     "output_type": "stream",
     "text": [
      "['x1', 'x2', 'x3', 'y1', 'y2', 'y3', 'z1', 'z2', 'z3']\n"
     ]
    }
   ],
   "source": [
    "a=['x','y','z']\n",
    "b=3\n",
    "print([f'{i}{j}' for i in a for j in range(1,b+1)])"
   ]
  },
  {
   "cell_type": "code",
   "execution_count": 38,
   "metadata": {},
   "outputs": [
    {
     "name": "stdout",
     "output_type": "stream",
     "text": [
      "x = 10\n",
      "x = 10\n",
      "x = 10\n"
     ]
    }
   ],
   "source": [
    "#formatting\n",
    "x=10\n",
    "print(\"x = {}\".format(x))\n",
    "print(f\"x = {x}\")\n",
    "print(\"x = %d\"%x)"
   ]
  },
  {
   "cell_type": "markdown",
   "metadata": {},
   "source": [
    "# oops"
   ]
  },
  {
   "cell_type": "code",
   "execution_count": 42,
   "metadata": {},
   "outputs": [
    {
     "name": "stdout",
     "output_type": "stream",
     "text": [
      "hey\n"
     ]
    }
   ],
   "source": [
    "class A:\n",
    "    def nom(self):\n",
    "        print(\"hey\")\n",
    "ob = A()\n",
    "ob.nom()"
   ]
  },
  {
   "cell_type": "code",
   "execution_count": 43,
   "metadata": {},
   "outputs": [
    {
     "name": "stdout",
     "output_type": "stream",
     "text": [
      "hey\n"
     ]
    }
   ],
   "source": [
    "class A:\n",
    "    def nom(self):\n",
    "        print(\"hey\")\n",
    "ob = A()\n",
    "A.nom(ob)"
   ]
  },
  {
   "cell_type": "code",
   "execution_count": 44,
   "metadata": {},
   "outputs": [
    {
     "name": "stdout",
     "output_type": "stream",
     "text": [
      "hey\n"
     ]
    }
   ],
   "source": [
    "Anonymous object\n",
    "class A:\n",
    "    def nom(self):\n",
    "        print(\"hey\")\n",
    "A().nom()"
   ]
  },
  {
   "cell_type": "markdown",
   "metadata": {},
   "source": [
    "# Day 52"
   ]
  },
  {
   "cell_type": "code",
   "execution_count": 1,
   "metadata": {},
   "outputs": [
    {
     "name": "stdout",
     "output_type": "stream",
     "text": [
      "10 14\n",
      "20 40\n"
     ]
    }
   ],
   "source": [
    "class student:\n",
    "    def __init__(self):\n",
    "        self.a=10\n",
    "        self.b=14\n",
    "    def show(self):\n",
    "        print(self.a,self.b)\n",
    "    def update(self):\n",
    "        self.a=20\n",
    "        self.b=40\n",
    "ob=student()\n",
    "ob.show()\n",
    "ob.update()\n",
    "ob.show()"
   ]
  },
  {
   "cell_type": "code",
   "execution_count": 4,
   "metadata": {},
   "outputs": [
    {
     "name": "stdout",
     "output_type": "stream",
     "text": [
      "20 40 40\n",
      "20 40 100\n",
      "this is static method\n"
     ]
    }
   ],
   "source": [
    "class student:\n",
    "    c=40     #class variable\n",
    "    def show(self):\n",
    "        print(self.a,self.b,self.c)\n",
    "    def update(self):\n",
    "        self.a=20    #instance variable\n",
    "        self.b=40\n",
    "    @classmethod\n",
    "    def setsemester(cls):\n",
    "        cls.c=100\n",
    "    @staticmethod\n",
    "    def setmethod():\n",
    "        print(\"this is static method\")\n",
    "ob=student()\n",
    "ob.update()\n",
    "ob.show()\n",
    "student.setsemester()\n",
    "ob.show()\n",
    "student.setmethod()"
   ]
  },
  {
   "cell_type": "code",
   "execution_count": 7,
   "metadata": {},
   "outputs": [
    {
     "data": {
      "text/plain": [
       "10"
      ]
     },
     "execution_count": 7,
     "metadata": {},
     "output_type": "execute_result"
    }
   ],
   "source": [
    "#making data more secure\n",
    "class test:\n",
    "    def __init__(self):\n",
    "        self.__data=10\n",
    "        \n",
    "ob=test()\n",
    "ob._test__data"
   ]
  },
  {
   "cell_type": "code",
   "execution_count": 10,
   "metadata": {},
   "outputs": [
    {
     "name": "stdout",
     "output_type": "stream",
     "text": [
      "a=10 and b=20\n"
     ]
    }
   ],
   "source": [
    "class test:\n",
    "    def __init__(self):\n",
    "        self.a=10\n",
    "        self.b=20\n",
    "    def __str__(self):\n",
    "        return f\"a={self.a} and b={self.b}\"\n",
    "    \n",
    "ob=test()\n",
    "print(ob)\n"
   ]
  },
  {
   "cell_type": "code",
   "execution_count": 15,
   "metadata": {},
   "outputs": [
    {
     "name": "stdout",
     "output_type": "stream",
     "text": [
      "A\n",
      "hey there\n"
     ]
    }
   ],
   "source": [
    "#python supports multiple inheritence\n",
    "#RMO: checks from left to right to avoid ambiguity\n",
    "class A:\n",
    "    def show(self):\n",
    "        print(\"A\")\n",
    "class B:\n",
    "    def show(self):\n",
    "        print(\"B\")\n",
    "class C(A, B):\n",
    "    def display(self):\n",
    "        print(\"hey there\")\n",
    "ob =C()\n",
    "ob.show()   #MRO: Method Resolution order\n",
    "ob.display()"
   ]
  },
  {
   "cell_type": "code",
   "execution_count": 21,
   "metadata": {},
   "outputs": [
    {
     "name": "stdout",
     "output_type": "stream",
     "text": [
      "10 20\n"
     ]
    }
   ],
   "source": [
    "class A:\n",
    "    def __init__(self):\n",
    "        self.a=10\n",
    "class B(A):\n",
    "    def __init__(self):\n",
    "        super().__init__()\n",
    "        self.b=20\n",
    "    def display(self):\n",
    "        print(self.a,self.b)\n",
    "ob =B()\n",
    "ob.display()"
   ]
  },
  {
   "cell_type": "markdown",
   "metadata": {},
   "source": [
    "# Day 53"
   ]
  },
  {
   "cell_type": "code",
   "execution_count": 3,
   "metadata": {},
   "outputs": [
    {
     "name": "stdout",
     "output_type": "stream",
     "text": [
      "bbaannaannaa\n",
      "banana\n"
     ]
    }
   ],
   "source": [
    "a=input()\n",
    "for i in range(0,len(a)-1):\n",
    "    if a[i]!=a[i+1]:\n",
    "        print(a[i],end=\"\")\n",
    "    else:\n",
    "        pass\n",
    "print(a[-1])"
   ]
  },
  {
   "cell_type": "code",
   "execution_count": 15,
   "metadata": {},
   "outputs": [
    {
     "name": "stdout",
     "output_type": "stream",
     "text": [
      "aababababbbaa\n",
      "a 2b 2a 2b 2a 2b 2a 2b 4"
     ]
    }
   ],
   "source": [
    "#aababababbbaa\n",
    "b=input()\n",
    "count=1\n",
    "for i in range(0,len(b)-1):\n",
    "    if b[i]==b[i+1]:\n",
    "        count+=1\n",
    "    else:\n",
    "        if count!=1:\n",
    "            print(b[i],str(count),end=\"\")\n",
    "            "
   ]
  },
  {
   "cell_type": "code",
   "execution_count": 29,
   "metadata": {},
   "outputs": [
    {
     "name": "stdout",
     "output_type": "stream",
     "text": [
      "5\n",
      "2 4\n",
      "3 5\n",
      "5 -6\n",
      "6 -7\n",
      "8 -9\n",
      "0.4\n"
     ]
    }
   ],
   "source": [
    "n=int(input())\n",
    "count=0\n",
    "for i in range(n):\n",
    "    x,y = [int(j) for j in input().split()]\n",
    "    if x>=0 and y>=0:\n",
    "        count+=1\n",
    "print(count/n)"
   ]
  },
  {
   "cell_type": "code",
   "execution_count": 3,
   "metadata": {},
   "outputs": [
    {
     "name": "stdout",
     "output_type": "stream",
     "text": [
      "2\n",
      "3\n"
     ]
    },
    {
     "data": {
      "text/plain": [
       "5"
      ]
     },
     "execution_count": 3,
     "metadata": {},
     "output_type": "execute_result"
    }
   ],
   "source": [
    "x= int(input())\n",
    "y= int(input())\n",
    "x+y"
   ]
  },
  {
   "cell_type": "code",
   "execution_count": 4,
   "metadata": {},
   "outputs": [
    {
     "name": "stdout",
     "output_type": "stream",
     "text": [
      "10\n",
      "50\n",
      "120\n"
     ]
    }
   ],
   "source": [
    "def add(a=0, b=0, c=0):\n",
    "    print(a+b+c)\n",
    "    return\n",
    "add(10)\n",
    "add(20,30)\n",
    "add(30,40,50)"
   ]
  },
  {
   "cell_type": "code",
   "execution_count": 5,
   "metadata": {},
   "outputs": [
    {
     "name": "stdout",
     "output_type": "stream",
     "text": [
      "bey\n"
     ]
    }
   ],
   "source": [
    "#method overriding\n",
    "class car:\n",
    "    def acc(self):\n",
    "        print(\"hey\")\n",
    "        return\n",
    "class audi(car):\n",
    "    def acc(self):\n",
    "        print(\"bey\")\n",
    "        return\n",
    "ob=audi()\n",
    "ob.acc()"
   ]
  },
  {
   "cell_type": "code",
   "execution_count": 6,
   "metadata": {},
   "outputs": [
    {
     "name": "stdout",
     "output_type": "stream",
     "text": [
      "otp\n",
      "ola\n"
     ]
    }
   ],
   "source": [
    "#polymorphism\n",
    "#duck typing\n",
    "class uber:\n",
    "    def startride(self):\n",
    "        print(\"start\")\n",
    "    \n",
    "class ola:\n",
    "    def startride(self):\n",
    "        print(\"ola\")\n",
    "\n",
    "class driver:\n",
    "    def putotp(self,cab):\n",
    "        print(\"otp\")\n",
    "        cab.startride()\n",
    "        \n",
    "cab = ola()\n",
    "d = driver()\n",
    "d.putotp(cab)\n",
    "    "
   ]
  },
  {
   "cell_type": "code",
   "execution_count": null,
   "metadata": {},
   "outputs": [],
   "source": [
    "#abstract class: can't be instantioned. abstract method has no definition. in abstract class we have atleat one abstract method."
   ]
  },
  {
   "cell_type": "code",
   "execution_count": 10,
   "metadata": {},
   "outputs": [
    {
     "name": "stdout",
     "output_type": "stream",
     "text": [
      "4\n",
      "0\n",
      "Exception handled division by zero\n",
      "done\n"
     ]
    }
   ],
   "source": [
    "#Exception handling\n",
    "a=int(input())\n",
    "b=int(input())\n",
    "try:\n",
    "    print(a/b)\n",
    "except ZeroDivisionError as e:\n",
    "    print(\"Exception handled\",e)\n",
    "print(\"done\")"
   ]
  },
  {
   "cell_type": "code",
   "execution_count": 11,
   "metadata": {},
   "outputs": [
    {
     "name": "stdout",
     "output_type": "stream",
     "text": [
      "4\n",
      "0\n",
      "Exception handled\n",
      "done\n"
     ]
    }
   ],
   "source": [
    "#Exception handling\n",
    "a=int(input())\n",
    "b=int(input())\n",
    "try:\n",
    "    print(a/b)\n",
    "except:\n",
    "    print(\"Exception handled\")\n",
    "print(\"done\")"
   ]
  },
  {
   "cell_type": "markdown",
   "metadata": {},
   "source": [
    "# day 54"
   ]
  },
  {
   "cell_type": "code",
   "execution_count": 4,
   "metadata": {},
   "outputs": [
    {
     "name": "stdout",
     "output_type": "stream",
     "text": [
      "10 12000 100000\n",
      "12000000000\n"
     ]
    }
   ],
   "source": [
    "a = [int(i) for i in input().split()]\n",
    "count=1\n",
    "for i in a:\n",
    "    count*=i\n",
    "print(count)"
   ]
  },
  {
   "cell_type": "code",
   "execution_count": 5,
   "metadata": {},
   "outputs": [
    {
     "data": {
      "text/plain": [
       "1"
      ]
     },
     "execution_count": 5,
     "metadata": {},
     "output_type": "execute_result"
    }
   ],
   "source": [
    "12//10"
   ]
  },
  {
   "cell_type": "code",
   "execution_count": 10,
   "metadata": {},
   "outputs": [
    {
     "name": "stdout",
     "output_type": "stream",
     "text": [
      "2 4\n",
      "6\n"
     ]
    }
   ],
   "source": [
    "a, b = [float(x) for x in input().split() ]\n",
    "print(int(a+b) if((a+b) ==int(a+b)) else float(a+b))"
   ]
  },
  {
   "cell_type": "code",
   "execution_count": 15,
   "metadata": {},
   "outputs": [
    {
     "name": "stdout",
     "output_type": "stream",
     "text": [
      "5\n",
      "3\n"
     ]
    }
   ],
   "source": [
    "#For a given value of 'N', find the no of digits in N!. \n",
    "n=int(input())\n",
    "fact=1\n",
    "for i in range(1,n+1):\n",
    "    fact=fact*i\n",
    "fact=str(fact)\n",
    "print(len(fact))"
   ]
  },
  {
   "cell_type": "code",
   "execution_count": null,
   "metadata": {},
   "outputs": [],
   "source": [
    "#file handling\n",
    "f=open(\"___\",\"r\")\n",
    "print(f.read())\n",
    "f.close()"
   ]
  },
  {
   "cell_type": "code",
   "execution_count": null,
   "metadata": {},
   "outputs": [],
   "source": [
    "#file handling\n",
    "f=open(\"___\",\"w\")\n",
    "f.write(_________))\n",
    "f.close()"
   ]
  },
  {
   "cell_type": "code",
   "execution_count": null,
   "metadata": {},
   "outputs": [],
   "source": [
    "#file handling\n",
    "f=open(\"___\",\"a\")\n",
    "f.write(_______))\n",
    "f.close()"
   ]
  },
  {
   "cell_type": "markdown",
   "metadata": {},
   "source": [
    "# Data Structure: Time Complexity"
   ]
  },
  {
   "cell_type": "code",
   "execution_count": null,
   "metadata": {},
   "outputs": [],
   "source": [
    "# Arrays: generally used for accessing the element while linkedlist is used for insertion \n",
    "# and deletion offer good time complexity."
   ]
  },
  {
   "cell_type": "markdown",
   "metadata": {},
   "source": [
    "# stack"
   ]
  },
  {
   "cell_type": "code",
   "execution_count": 57,
   "metadata": {},
   "outputs": [
    {
     "name": "stdout",
     "output_type": "stream",
     "text": [
      "['a', 'b', 'c']\n",
      "['a', 'b']\n",
      "['a']\n",
      "[]\n"
     ]
    }
   ],
   "source": [
    "# stack implementation using list\n",
    "# list = timecomplexity: O(n) for append and pop apperation\n",
    "stack=[]\n",
    "stack.append('a')\n",
    "stack.append('b')\n",
    "stack.append('c')\n",
    "print(stack)\n",
    "stack.pop()\n",
    "print(stack)\n",
    "stack.pop()\n",
    "print(stack)\n",
    "stack.pop()\n",
    "print(stack)"
   ]
  },
  {
   "cell_type": "code",
   "execution_count": 59,
   "metadata": {},
   "outputs": [
    {
     "name": "stdout",
     "output_type": "stream",
     "text": [
      "deque(['a', 'b', 'c'])\n",
      "deque(['a', 'b'])\n",
      "deque(['a'])\n",
      "deque([])\n"
     ]
    }
   ],
   "source": [
    "#stack implementation using collections.deque\n",
    "# deque = timecomplexity: O(1) for append and pop operation\n",
    "from collections import deque\n",
    "stack=deque()\n",
    "stack.append('a')\n",
    "stack.append('b')\n",
    "stack.append('c')\n",
    "print(stack)\n",
    "stack.pop()\n",
    "print(stack)\n",
    "stack.pop()\n",
    "print(stack)\n",
    "stack.pop()\n",
    "print(stack)"
   ]
  },
  {
   "cell_type": "code",
   "execution_count": 68,
   "metadata": {},
   "outputs": [
    {
     "name": "stdout",
     "output_type": "stream",
     "text": [
      "0\n",
      "True\n",
      "3\n",
      "c\n",
      "b\n",
      "a\n",
      "True\n"
     ]
    }
   ],
   "source": [
    "#stack implementation using queue()\n",
    "#queue: LIFO\n",
    "from queue import LifoQueue\n",
    "stack=LifoQueue(maxsize=3)\n",
    "print(stack.qsize())\n",
    "stack.put('a')\n",
    "stack.put('b')\n",
    "stack.put('c')\n",
    "print(stack.full())\n",
    "print(stack.qsize())\n",
    "print(stack.get())\n",
    "print(stack.get())\n",
    "print(stack.get())\n",
    "print(stack.empty())"
   ]
  },
  {
   "cell_type": "code",
   "execution_count": null,
   "metadata": {},
   "outputs": [],
   "source": []
  },
  {
   "cell_type": "code",
   "execution_count": null,
   "metadata": {},
   "outputs": [],
   "source": []
  }
 ],
 "metadata": {
  "kernelspec": {
   "display_name": "Python 3",
   "language": "python",
   "name": "python3"
  },
  "language_info": {
   "codemirror_mode": {
    "name": "ipython",
    "version": 3
   },
   "file_extension": ".py",
   "mimetype": "text/x-python",
   "name": "python",
   "nbconvert_exporter": "python",
   "pygments_lexer": "ipython3",
   "version": "3.7.1"
  }
 },
 "nbformat": 4,
 "nbformat_minor": 2
}
